{
 "cells": [
  {
   "cell_type": "markdown",
   "metadata": {},
   "source": [
    "\n",
    "# Objective\n",
    "\n"
   ]
  },
  {
   "cell_type": "markdown",
   "metadata": {},
   "source": [
    "To analyze the behavior of the microbial species individually and in the community. This analysis will give us insight into the extent of metabolic relationships in the community, as well as the dependence on the diet.\n",
    "\n"
   ]
  },
  {
   "cell_type": "markdown",
   "metadata": {},
   "source": [
    "\n",
    "## Investigating effect of diet\n",
    "\n"
   ]
  },
  {
   "cell_type": "markdown",
   "metadata": {},
   "source": [
    "\n",
    "### Selection of species:\n",
    "\n"
   ]
  },
  {
   "cell_type": "markdown",
   "metadata": {},
   "source": [
    "528 AGORA bacterial species (including strains) were mapped to 412 Human Microbiome Project species. Single AGORA strains were selected where there were multiple that mapped. This resulted in a total of 412 models.\n",
    "\n",
    "Clustering was then performed on the consumed and secreted metabolites of these 412 and the top 20 clusters were selected. A single species is selected from each cluster that secretes all 8 of the immune-related metabolites (besides spermidine which is not in the 412) present in the 412 models.\n",
    "\n",
    "The dataset used is the Average European Diet from the AGORA dataset V1.02.\n",
    "\n",
    "The species are:\n",
    "\n",
    "1.  Bacteroides<sub>thetaiotaomicron</sub><sub>VPI</sub><sub>5482</sub>\n",
    "2.  Bacteroides<sub>sp</sub><sub>2</sub><sub>2</sub><sub>4</sub>\n",
    "3.  Parabacteroides<sub>johnsonii</sub><sub>DSM</sub><sub>18315</sub>\n",
    "4.  Prevotella<sub>oralis</sub><sub>ATCC</sub><sub>33269</sub>\n",
    "5.  Eubacterium<sub>eligens</sub><sub>ATCC</sub><sub>27750</sub>\n",
    "6.  Slackia<sub>exigua</sub><sub>ATCC</sub><sub>700122</sub>\n",
    "7.  Dorea<sub>longicatena</sub><sub>DSM</sub><sub>13814</sub>\n",
    "8.  Clostridium<sub>bartlettii</sub><sub>DSM</sub><sub>16795</sub>\n",
    "9.  Streptococcus<sub>sp</sub><sub>I</sub><sub>P16</sub>\n",
    "10. Blautia<sub>hydrogenotrophica</sub><sub>DSM</sub><sub>10507</sub>\n",
    "11. Brevundimonas<sub>bacteroides</sub><sub>DSM</sub><sub>4726</sub>\n",
    "12. Clostridium<sub>hylemonae</sub><sub>DSM</sub><sub>15053</sub>\n",
    "13. Sutterella<sub>wadsworthensis</sub><sub>3</sub><sub>1</sub><sub>45B</sub>\n",
    "14. Enterobacteriaceae<sub>bacterium</sub><sub>9</sub><sub>2</sub><sub>54FAA</sub>\n",
    "15. Bacillus<sub>megaterium</sub><sub>DSM319</sub>\n",
    "16. Peptostreptococcus<sub>stomatis</sub><sub>DSM</sub><sub>17678</sub>\n",
    "17. Brachybacterium<sub>paraconglomeratum</sub><sub>LC44</sub>\n",
    "18. Neisseria<sub>elongata</sub><sub>subsp</sub><sub>glycolytica</sub><sub>ATCC</sub><sub>29315</sub>\n",
    "19. Rothia<sub>aeria</sub><sub>F0474</sub>\n",
    "20. Staphylococcus<sub>hominis</sub><sub>subsp</sub><sub>hominis</sub><sub>C80</sub>\n",
    "\n"
   ]
  },
  {
   "cell_type": "markdown",
   "metadata": {},
   "source": [
    "\n",
    "### Diets used:\n",
    "\n"
   ]
  },
  {
   "cell_type": "markdown",
   "metadata": {},
   "source": [
    "All nutrition definitions were obtained from the Virtual Metabolic Human database on 2018-04-24. They are:\n",
    "\n",
    "1.  High Fiber Diet\n",
    "2.  High Protein Diet\n",
    "3.  Vegetarian Diet\n",
    "4.  Vegan Diet\n",
    "5.  Type 2 Diabetes Patient Diet\n",
    "6.  Unhealthy Diet\n",
    "\n"
   ]
  },
  {
   "cell_type": "markdown",
   "metadata": {},
   "source": [
    "\n",
    "## Results\n",
    "\n"
   ]
  },
  {
   "cell_type": "markdown",
   "metadata": {},
   "source": [
    "Import Headers\n",
    "\n"
   ]
  },
  {
   "cell_type": "code",
   "execution_count": 1,
   "metadata": {
    "collapsed": false
   },
   "outputs": [
    {
     "name": "stdout",
     "output_type": "stream",
     "text": [
      "0 - 20c078f8-e617-43b5-a72f-d4e830e3430d"
     ]
    }
   ],
   "source": [
    "%matplotlib inline\n",
    "import os\n",
    "import sys\n",
    "import pandas as pd\n",
    "RELPATH = os.getcwd()\n",
    "SRCPATH = RELPATH + \"/../../src/\"\n",
    "sys.path.append(SRCPATH)\n",
    "import simulator\n",
    "import matplotlib.pyplot as plt"
   ]
  },
  {
   "cell_type": "markdown",
   "metadata": {},
   "source": [
    "Define file paths to bacterial species\n",
    "\n"
   ]
  },
  {
   "cell_type": "code",
   "execution_count": 1,
   "metadata": {
    "collapsed": false
   },
   "outputs": [
    {
     "name": "stdout",
     "output_type": "stream",
     "text": [
      "1 - ca52a714-88d6-47bf-973b-db28f03efc01"
     ]
    }
   ],
   "source": [
    "SpeciesDict = {\n",
    "      'sp1':{'File':'../data/average-european-diet/Bacteroides_thetaiotaomicron_VPI_5482.xml',\n",
    "             'initAbundance':0.01},\n",
    "      'sp2':{'File':'../data/average-european-diet/Bacteroides_sp_2_2_4.xml',\n",
    "             'initAbundance':0.01},\n",
    "      'sp3':{'File':'../data/average-european-diet/Parabacteroides_johnsonii_DSM_18315.xml',\n",
    "             'initAbundance':0.01},\n",
    "      'sp4':{'File':'../data/average-european-diet/Prevotella_oralis_ATCC_33269.xml',\n",
    "             'initAbundance':0.01},\n",
    "      'sp5':{'File':'../data/average-european-diet/Eubacterium_eligens_ATCC_27750.xml',\n",
    "             'initAbundance':0.01},\n",
    "      'sp6':{'File':'../data/average-european-diet/Slackia_exigua_ATCC_700122.xml',\n",
    "             'initAbundance':0.01},\n",
    "      'sp7':{'File':'../data/average-european-diet/Dorea_longicatena_DSM_13814.xml',\n",
    "             'initAbundance':0.01},\n",
    "      'sp8':{'File':'../data/average-european-diet/Clostridium_bartlettii_DSM_16795.xml',\n",
    "             'initAbundance':0.01},\n",
    "      'sp9':{'File':'../data/average-european-diet/Streptococcus_sp_I_P16.xml',\n",
    "             'initAbundance':0.01},\n",
    "      'sp10':{'File':'../data/average-european-diet/Blautia_hydrogenotrophica_DSM_10507.xml',\n",
    "              'initAbundance':0.01},\n",
    "      'sp11':{'File':'../data/average-european-diet/Brevundimonas_bacteroides_DSM_4726.xml',\n",
    "              'initAbundance':0.01},\n",
    "      'sp12':{'File':'../data/average-european-diet/Clostridium_hylemonae_DSM_15053.xml',\n",
    "              'initAbundance':0.01},\n",
    "      'sp13':{'File':'../data/average-european-diet/Sutterella_wadsworthensis_3_1_45B.xml',\n",
    "              'initAbundance':0.01},\n",
    "      'sp14':{'File':'../data/average-european-diet/Enterobacteriaceae_bacterium_9_2_54FAA.xml',\n",
    "              'initAbundance':0.01},\n",
    "      'sp15':{'File':'../data/average-european-diet/Bacillus_megaterium_DSM319.xml',\n",
    "              'initAbundance':0.01},\n",
    "      'sp16':{'File':'../data/average-european-diet/Peptostreptococcus_stomatis_DSM_17678.xml',\n",
    "              'initAbundance':0.01},\n",
    "      'sp17':{'File':'../data/average-european-diet/Brachybacterium_paraconglomeratum_LC44.xml',\n",
    "              'initAbundance':0.01},\n",
    "      'sp18':{'File':'../data/average-european-diet/Neisseria_elongata_subsp_glycolytica_ATCC_29315.xml',\n",
    "              'initAbundance':0.01},\n",
    "      'sp19':{'File':'../data/average-european-diet/Rothia_aeria_F0474.xml',\n",
    "              'initAbundance':0.01},\n",
    "      'sp20':{'File':'../data/average-european-diet/Staphylococcus_hominis_subsp_hominis_C80.xml',\n",
    "              'initAbundance':0.01}\n",
    "}"
   ]
  },
  {
   "cell_type": "markdown",
   "metadata": {},
   "source": [
    "Define file paths to diet definitions\n",
    "\n"
   ]
  },
  {
   "cell_type": "code",
   "execution_count": 1,
   "metadata": {
    "collapsed": false
   },
   "outputs": [
    {
     "name": "stdout",
     "output_type": "stream",
     "text": [
      "2 - 09d930a9-4c06-4a4e-b9c2-62b20363d426"
     ]
    }
   ],
   "source": [
    "DietDict = {\n",
    "    'HighFiber': '../data/diet-definitions/VMH_HighFiber.tsv',\n",
    "    'HighProtein': '../data/diet-definitions/VMH_HighProtein.tsv',\n",
    "    'Vegetarian': '../data/diet-definitions/VMH_Vegetarian.tsv',\n",
    "    'Vegan': '../data/diet-definitions/VMH_Vegan.tsv',\n",
    "    'Type2Diabetes': '../data/diet-definitions/VMH_Type2Diabetes.tsv',\n",
    "    'Unhealthy': '../data/diet-definitions/VMH_Unhealthy.tsv'\n",
    "    }"
   ]
  },
  {
   "cell_type": "markdown",
   "metadata": {},
   "source": [
    "\n",
    "### Species responses to diets\n",
    "\n"
   ]
  },
  {
   "cell_type": "markdown",
   "metadata": {},
   "source": [
    "Define function to plot biomass trajectory of single species community\n",
    "\n"
   ]
  },
  {
   "cell_type": "code",
   "execution_count": 1,
   "metadata": {
    "collapsed": false
   },
   "outputs": [
    {
     "name": "stdout",
     "output_type": "stream",
     "text": [
      "3 - c4060ae6-4a90-4b46-9d7e-5fe3723fef00"
     ]
    }
   ],
   "source": [
    "def characterizeSingleSpecies(SingleSpeciesDict, DietDict):\n",
    "    sp_id = SingleSpeciesDict.keys()[0]\n",
    "    for diet in DietDict.keys():\n",
    "        DietDF = pd.read_csv(RELPATH +'/' + DietDict[diet], sep='\\t')\n",
    "        Output, SpecDict = simulator.simulateCommunity(SingleSpeciesDict, DietDF, MaxIter=10)\n",
    "        T = []\n",
    "        Biomass = []\n",
    "        for P in Output:\n",
    "            T += list(P['t'])\n",
    "            Biomass += list(P[SpecDict[sp_id]['Name']])\n",
    "        plt.plot(T, Biomass, label=diet)\n",
    "    plt.legend()"
   ]
  },
  {
   "cell_type": "markdown",
   "metadata": {},
   "source": [
    "Simulate single speciess\n",
    "\n"
   ]
  },
  {
   "cell_type": "code",
   "execution_count": 1,
   "metadata": {
    "collapsed": false
   },
   "outputs": [
    {
     "name": "stdout",
     "output_type": "stream",
     "text": [
      "4 - 35487dcc-b537-4ce2-ae4f-0febb2856d18"
     ]
    }
   ],
   "source": [
    "for sp in SpeciesDict.keys():\n",
    "    plt.figure()\n",
    "    characterizeSingleSpecies({sp:SpeciesDict[sp]}, DietDict)"
   ]
  },
  {
   "cell_type": "markdown",
   "metadata": {},
   "source": [
    "\n",
    "### Community responses to diets\n",
    "\n"
   ]
  },
  {
   "cell_type": "markdown",
   "metadata": {},
   "source": [
    "1.  High Fiber Diet\n",
    "\n"
   ]
  },
  {
   "cell_type": "code",
   "execution_count": 1,
   "metadata": {
    "collapsed": false
   },
   "outputs": [
    {
     "name": "stdout",
     "output_type": "stream",
     "text": [
      "5 - 080aa79c-a173-4106-80af-3c937d64706e"
     ]
    }
   ],
   "source": [
    "HighFiberDiet = pd.read_csv(RELPATH +'/' + DietDict['HighFiber'], sep='\\t')\n",
    "Output, HighFibSpecDict = simulator.simulateCommunity(SpeciesDict, HighFiberDiet)\n",
    "simulator.plotBiomass(HighFibSpecDict, Output)"
   ]
  },
  {
   "cell_type": "markdown",
   "metadata": {},
   "source": [
    "1.  High Protein Diet\n",
    "\n"
   ]
  },
  {
   "cell_type": "code",
   "execution_count": 1,
   "metadata": {
    "collapsed": false
   },
   "outputs": [
    {
     "name": "stdout",
     "output_type": "stream",
     "text": [
      "6 - 3b4de08b-9691-4fb5-ac22-a83044e16bf1"
     ]
    }
   ],
   "source": [
    "HighProteinDiet = pd.read_csv(RELPATH +'/' + DietDict['HighProtein'], sep='\\t')\n",
    "Output, HighProteinSpecDict = simulator.simulateCommunity(SpeciesDict, HighProteinDiet)\n",
    "simulator.plotBiomass(HighProteinSpecDict, Output)"
   ]
  },
  {
   "cell_type": "markdown",
   "metadata": {},
   "source": [
    "1.  Vegetarian Diet\n",
    "\n"
   ]
  },
  {
   "cell_type": "code",
   "execution_count": 1,
   "metadata": {
    "collapsed": false
   },
   "outputs": [
    {
     "name": "stdout",
     "output_type": "stream",
     "text": [
      "7 - a9dc09a5-a42d-4114-a0c0-a7a90afa1dab"
     ]
    }
   ],
   "source": [
    "VegetarianDiet = pd.read_csv(RELPATH +'/' + DietDict['Vegetarian'], sep='\\t')\n",
    "Output, VegetarianSpecDict = simulator.simulateCommunity(SpeciesDict, VegetarianDiet)\n",
    "simulator.plotBiomass(VegetarianSpecDict, Output)"
   ]
  },
  {
   "cell_type": "markdown",
   "metadata": {},
   "source": [
    "1.  Vegan Diet\n",
    "\n"
   ]
  },
  {
   "cell_type": "code",
   "execution_count": 1,
   "metadata": {
    "collapsed": false
   },
   "outputs": [
    {
     "name": "stdout",
     "output_type": "stream",
     "text": [
      "8 - b309e11b-cebd-4b2c-b9d0-3ce108d48f7e"
     ]
    }
   ],
   "source": [
    "VeganDiet = pd.read_csv(RELPATH +'/' + DietDict['Vegan'], sep='\\t')\n",
    "Output, VeganSpecDict = simulator.simulateCommunity(SpeciesDict, VeganDiet)\n",
    "simulator.plotBiomass(VeganSpecDict, Output)"
   ]
  },
  {
   "cell_type": "markdown",
   "metadata": {},
   "source": [
    "1.  Type 2 Diabetes Patient Diet\n",
    "\n"
   ]
  },
  {
   "cell_type": "code",
   "execution_count": 1,
   "metadata": {
    "collapsed": false
   },
   "outputs": [
    {
     "name": "stdout",
     "output_type": "stream",
     "text": [
      "9 - 7e36a44e-568c-465e-85d8-a9443cf9c186"
     ]
    }
   ],
   "source": [
    "Type2DiabetesDiet = pd.read_csv(RELPATH +'/' + DietDict['Type2Diabetes'], sep='\\t')\n",
    "Output, T2DSpecDict = simulator.simulateCommunity(SpeciesDict, Type2DiabetesDiet)\n",
    "simulator.plotBiomass(T2DSpecDict, Output)"
   ]
  },
  {
   "cell_type": "markdown",
   "metadata": {},
   "source": [
    "1.  Unhealthy Diet\n",
    "\n"
   ]
  },
  {
   "cell_type": "code",
   "execution_count": 1,
   "metadata": {
    "collapsed": false
   },
   "outputs": [
    {
     "name": "stdout",
     "output_type": "stream",
     "text": [
      "10 - ef1c1892-e4e4-4445-a490-dedb20ce7203"
     ]
    }
   ],
   "source": [
    "UnhealthyDiet = pd.read_csv(RELPATH +'/' + DietDict['Unhealthy'], sep='\\t')\n",
    "Output, UnhealthySpecDict = simulator.simulateCommunity(SpeciesDict, UnhealthyDiet)\n",
    "simulator.plotBiomass(UnhealthySpecDict, Output)"
   ]
  }
 ],
 "metadata": {
  "anaconda-cloud": {},
  "kernelspec": {
   "display_name": "Python [default]",
   "language": "python",
   "name": "python3"
  },
  "language_info": {
   "codemirror_mode": {
    "name": "ipython",
    "version": 3
   },
   "file_extension": ".py",
   "mimetype": "text/x-python",
   "name": "python",
   "nbconvert_exporter": "python",
   "pygments_lexer": "ipython3",
   "version": "3.5.2"
  },
  "org": null
 },
 "nbformat": 4,
 "nbformat_minor": 0
}
