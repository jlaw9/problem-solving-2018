{
 "cells": [
  {
   "cell_type": "markdown",
   "metadata": {},
   "source": [
    "\n",
    "# Headers\n",
    "\n"
   ]
  },
  {
   "cell_type": "code",
   "execution_count": 1,
   "metadata": {
    "collapsed": false
   },
   "outputs": [],
   "source": [
    "%matplotlib inline\n",
    "import cobra\n",
    "import PyDSTool as dst\n",
    "import pandas as pd\n",
    "import matplotlib.pyplot as plt\n",
    "import copy\n",
    "import sys\n",
    "import pdb\n",
    "import time"
   ]
  },
  {
   "cell_type": "markdown",
   "metadata": {},
   "source": [
    "\n",
    "# Utility Functions\n",
    "\n"
   ]
  },
  {
   "cell_type": "code",
   "execution_count": 10,
   "metadata": {
    "collapsed": false
   },
   "outputs": [],
   "source": [
    "# Functions for initialization\n",
    "\n",
    "def cleanupname(name):\n",
    "    \"\"\"\n",
    "     The reaction names in the model files \n",
    "     don't have brackets or parentheses. I replaced\n",
    "     those found in the mediaFluxes file.\n",
    "     \"\"\"\n",
    "    name = name.replace('[', '__40__')#_LPAREN_')\n",
    "    name = name.replace(']', '__41__')#'_RPAREN_')\n",
    "    name = name.replace('(', '__40__')#'_LPAREN_')\n",
    "    name = name.replace(')', '__41__')#'_RPAREN_')\n",
    "    return name\n",
    "\n",
    "def defineDFBAModel(SpeciesDict , MediaDF):\n",
    "    print(\"Defining Dynamical model... \\n\")\n",
    "    ParDef = dict()\n",
    "    VarDef = dict()\n",
    "    ICS = dict()\n",
    "    exchange_list = []\n",
    "    mediaDerivedComponents = {}\n",
    "    for i, row in MediaDF.iterrows():\n",
    "        N = cleanupname(row.Reaction)\n",
    "        mediaDerivedComponents[N] = row['Flux Value'] / (24.0*60.0) # Per minute\n",
    "\n",
    "    for species in SpeciesDict.keys():\n",
    "        SpeciesDict[species]['SpeciesModel'] = cobra.io.read_sbml_model(SpeciesDict[species]['File'])\n",
    "        SpeciesDict[species]['OriginalLB'] = {r.id:r.lower_bound/10 for r in SpeciesDict[species]['SpeciesModel'].exchanges}\n",
    "        SpeciesDict[species]['solution'] = SpeciesDict[species]['SpeciesModel'].optimize()\n",
    "        SpeciesDict[species]['Name'] = SpeciesDict[species]['SpeciesModel'].name.split(' ')[0]\n",
    "        exchange_list += SpeciesDict[species]['SpeciesModel'].exchanges\n",
    "        Name=SpeciesDict[species]['Name']\n",
    "        ParDef['mu' + '_' + Name] = SpeciesDict[species]['solution'].objective_value/60\n",
    "        VarDef[Name] =  'mu_' + Name + ' * ' + Name + '- ' +'Dilution * ' + Name ### Biomass\n",
    "        ICS[Name] = SpeciesDict[species]['initAbundance']\n",
    "    ParDef['Dilution'] = 0.002\n",
    "    all_exchanges = set()\n",
    "\n",
    "    for ex in exchange_list:\n",
    "        all_exchanges.add(ex.id)\n",
    "        #     all_exchanges = list(set(exchange_list))\n",
    "\n",
    "    for rid in all_exchanges:\n",
    "        VarDef[rid] =  '-Dilution * ' + rid\n",
    "        ICS[rid] = 0.1\n",
    "\n",
    "        if rid in mediaDerivedComponents.keys():\n",
    "            ParDef[rid + '_influx'] = mediaDerivedComponents[rid]\n",
    "            VarDef[rid] += ' + ' +  rid + '_influx'\n",
    "\n",
    "        for species in SpeciesDict.keys():\n",
    "            # print(SpeciesDict[species]['Name'])\n",
    "            if 'h2o' in rid:\n",
    "                print(species, rid)\n",
    "            if rid in [species_r.id for species_r in SpeciesDict[species]['SpeciesModel'].exchanges]:\n",
    "                Name = SpeciesDict[species]['Name']\n",
    "                ParDef[rid + '_' + Name] = SpeciesDict[species]['solution'].fluxes[rid]/60.0\n",
    "                VarDef[rid] += ' + ' +  rid + '_' + Name + ' * ' + Name\n",
    "\n",
    "    ModelDef = dst.args(name='Community',\n",
    "                    pars=ParDef,\n",
    "                        varspecs=VarDef,\n",
    "                        ics=ICS)\n",
    "    ModelDS = dst.Vode_ODEsystem(ModelDef)\n",
    "    print(\"Done!\")\n",
    "    return (SpeciesDict, ModelDef, ModelDS)\n",
    "\n",
    "# Functions for model updates\n",
    "\n",
    "def recomputeLowerBounds(SpeciesDict, PrevSteadyState, Kmax):\n",
    "    for species in SpeciesDict.keys():\n",
    "        for rid in [rxn.id for rxn in SpeciesDict[species]['SpeciesModel'].exchanges]:\n",
    "            SpeciesDict[species]['SpeciesModel'].reactions.get_by_id(rid) \\\n",
    "                                                   .lower_bound = \\\n",
    "                                                    SpeciesDict[species]['OriginalLB'][rid] \\\n",
    "                                                    * PrevSteadyState[rid]/(Kmax+PrevSteadyState[rid])\n",
    "#             if 'gln_L' in rid:\n",
    "#                 print(species, ' gln_L LB:', SpeciesDict[species]['SpeciesModel'].reactions.get_by_id(rid).lower_bound)\n",
    "    return SpeciesDict\n",
    "\n",
    "def updateFluxParameters(SpeciesDict, ModelDS, PrevSteadyState, debug):\n",
    "    ParDef = {}\n",
    "    ICS = {}\n",
    "    for species in SpeciesDict:\n",
    "        solution = SpeciesDict[species]['SpeciesModel'].optimize()\n",
    "        #print(solution.fluxes['EX_gln_L__40__e__41__']/60.0)\n",
    "        Name = SpeciesDict[species]['Name']\n",
    "        ParDef['mu_' + Name] = solution.objective_value/60.0\n",
    "        ICS[Name] = PrevSteadyState[Name]\n",
    "        exchanges = [r.id for r in SpeciesDict[species]['SpeciesModel'].exchanges]\n",
    "        for rid in exchanges:\n",
    "            if abs(solution.fluxes[rid]/60.0) < 1e-12: # Because very small non-zero solutions may come up despite 0 LB\n",
    "                solution.fluxes[rid] = 0\n",
    "            ParDef[rid + '_' + Name] = solution.fluxes[rid]/60.0\n",
    "            ICS[rid] = PrevSteadyState[rid]\n",
    "#             if 'gln_L' in rid:\n",
    "#                 print(Name, '=', species, ' ParDef of gln_L =', ParDef[rid + '_' + Name])\n",
    "#                 print(species, ' gln_L LB:', SpeciesDict[species]['SpeciesModel'].reactions.get_by_id(rid).lower_bound)\n",
    "    ModelDS.set(pars=ParDef, ics=ICS)\n",
    "    return ModelDS\n",
    "\n",
    "def update(SpeciesDict, ModelDS, PrevSteadyState, Kmax,debug=False):\n",
    "    UpdatedSpeciesDict = recomputeLowerBounds(SpeciesDict,\n",
    "                                              PrevSteadyState, Kmax)\n",
    "    \n",
    "    UpdatedDynamicModel = updateFluxParameters(UpdatedSpeciesDict,\n",
    "                                               ModelDS,\n",
    "                                               PrevSteadyState,debug)\n",
    "    # P = simulateModel(updatedDynamicalModel)\n",
    "    return(UpdatedSpeciesDict, UpdatedDynamicModel)\n",
    "\n",
    "def get_ss(PointSet):\n",
    "    SSPoints={}\n",
    "    for k in PointSet.keys():\n",
    "        SSPoints[k]=PointSet[k][-1]\n",
    "    return(SSPoints)\n",
    "\n",
    "def checkNegativeMetabolites(PointSet,StoreNegatives):\n",
    "    IndexStop = len(PointSet['t'])\n",
    "\n",
    "    for variable in PointSet.keys():\n",
    "        if any(PointSet[variable] < 0.0): # checking only final Tpoint, b/c monotonic\n",
    "            varIndex = next((index for index,value in enumerate(list(PointSet[variable])) if value < 0.0), None)\n",
    "            #varIndex= PointSet.index(filter(lambda x: x<0, PointSet)[0])\n",
    "            if varIndex < IndexStop:\n",
    "                # Update the index for the first negative crossing\n",
    "                IndexStop = varIndex\n",
    "               # print(IndexStop)\n",
    "\n",
    "    if IndexStop < len(PointSet['t']) and IndexStop > 0:\n",
    "        P_tilFirstNeg={}\n",
    "        if len(P[variable] > IndexStop+5):\n",
    "            Extension =5\n",
    "        elif len(P[variable] > IndexStop+2):\n",
    "            Extension =2\n",
    "        else:\n",
    "            Extension = 0\n",
    "        for variable in PointSet.keys():\n",
    "            P_tilFirstNeg[variable]=P[variable][:IndexStop] \n",
    "            if P[variable][IndexStop+Extension] < 0.0:\n",
    "                P_tilFirstNeg[variable][IndexStop-1] = 0.0\n",
    "                print('P_tillFirstNeg = ', P_tilFirstNeg[variable])\n",
    "                StoreNegatives.add(variable)\n",
    "                print(variable, 'is 0 at ', P['t'][IndexStop])\n",
    "                \n",
    "        P_tilFirstNeg['t'] = PointSet['t'][:IndexStop]\n",
    "        PointSet = P_tilFirstNeg\n",
    "    return(PointSet,StoreNegatives)"
   ]
  },
  {
   "cell_type": "markdown",
   "metadata": {},
   "source": [
    "\n",
    "# Test:\n",
    "\n"
   ]
  },
  {
   "cell_type": "code",
   "execution_count": 3,
   "metadata": {
    "collapsed": false
   },
   "outputs": [],
   "source": [
    "SpeciesDict = {'Sp1': {'File': './data/Bacteroides_sp_1_1_14.xml', 'initAbundance': 0.01},\n",
    " 'Sp10': {'File': './data/Desulfovibrio_piger_ATCC_29098.xml',\n",
    "  'initAbundance': 0.01},\n",
    " 'Sp2': {'File': './data/Ruminococcus_flavefaciens_FD_1.xml',\n",
    "  'initAbundance': 0.01},\n",
    " 'Sp3': {'File': './data/Lactobacillus_brevis_ATCC_367.xml',\n",
    "  'initAbundance': 0.01},\n",
    " 'Sp4': {'File': './data/Mycobacterium_avium_subsp_avium_ATCC_25291.xml',\n",
    "  'initAbundance': 0.01},\n",
    " 'Sp5': {'File': './data/Actinomyces_viscosus_C505.xml',\n",
    "  'initAbundance': 0.01},\n",
    " 'Sp6': {'File': './data/Exiguobacterium_aurantiacum_DSM_6208.xml',\n",
    "  'initAbundance': 0.01},\n",
    " 'Sp7': {'File': './data/Arcanobacterium_haemolyticum_DSM_20595.xml',\n",
    "  'initAbundance': 0.01},\n",
    " 'Sp8': {'File': './data/Streptococcus_intermedius_JTH08.xml',\n",
    "  'initAbundance': 0.01},\n",
    " 'Sp9': {'File': './data/Bifidobacterium_longum_infantis_ATCC_15697.xml',\n",
    "  'initAbundance': 0.01}}\n",
    "\n",
    "# SpeciesDict = {'Sp1': {'File':'./data/Bacteroides_sp_1_1_14.xml',\n",
    "#                       'initAbundance':2e-3},\n",
    "#                 'Sp2': {'File':'./data/Actinomyces_viscosus_C505.xml',\n",
    "#                         'initAbundance':2e-3},\n",
    "#                'Sp3': {'File':'./data/Bifidobacterium_longum_infantis_ATCC_15697.xml',\n",
    "#                       'initAbundance':2e-3},\n",
    "#                'Sp4': {'File':'./data/Desulfovibrio_piger_ATCC_29098.xml',\n",
    "#                       'initAbundance':2e-3},\n",
    "# }\n",
    "\n",
    "MediaDF = pd.read_csv('./data/VMH_HighFiber.tsv', sep='\\t')\n"
   ]
  },
  {
   "cell_type": "code",
   "execution_count": 11,
   "metadata": {
    "collapsed": false,
    "scrolled": false
   },
   "outputs": [
    {
     "name": "stdout",
     "output_type": "stream",
     "text": [
      "Defining Dynamical model... \n",
      "\n",
      "Sp3 EX_h2o__40__e__41__\n",
      "Sp2 EX_h2o__40__e__41__\n",
      "Sp5 EX_h2o__40__e__41__\n",
      "Sp1 EX_h2o__40__e__41__\n",
      "Sp8 EX_h2o__40__e__41__\n",
      "Sp6 EX_h2o__40__e__41__\n",
      "Sp10 EX_h2o__40__e__41__\n",
      "Sp7 EX_h2o__40__e__41__\n",
      "Sp9 EX_h2o__40__e__41__\n",
      "Sp4 EX_h2o__40__e__41__\n",
      "Done!\n",
      "--------------------------------------------------------------\n",
      "T0 =  0  ; Iteration = 1\n",
      "--------------------------------------------------------------\n",
      "T0 =  60.0  ; Iteration = 2\n",
      "--------------------------------------------------------------\n",
      "T0 =  120.0  ; Iteration = 3\n",
      "--------------------------------------------------------------\n",
      "T0 =  180.0  ; Iteration = 4\n",
      "--------------------------------------------------------------\n",
      "T0 =  240.0  ; Iteration = 5\n",
      "--------------------------------------------------------------\n",
      "T0 =  300.0  ; Iteration = 6\n",
      "--------------------------------------------------------------\n",
      "T0 =  360.0  ; Iteration = 7\n",
      "--------------------------------------------------------------\n",
      "T0 =  420.0  ; Iteration = 8\n",
      "--------------------------------------------------------------\n",
      "T0 =  480.0  ; Iteration = 9\n",
      "--------------------------------------------------------------\n",
      "T0 =  540.0  ; Iteration = 10\n",
      "--------------------------------------------------------------\n",
      "T0 =  600.0  ; Iteration = 11\n",
      "--------------------------------------------------------------\n",
      "T0 =  660.0  ; Iteration = 12\n",
      "--------------------------------------------------------------\n",
      "T0 =  720.0  ; Iteration = 13\n",
      "--------------------------------------------------------------\n",
      "T0 =  780.0  ; Iteration = 14\n",
      "--------------------------------------------------------------\n",
      "T0 =  840.0  ; Iteration = 15\n",
      "--------------------------------------------------------------\n",
      "T0 =  900.0  ; Iteration = 16\n",
      "--------------------------------------------------------------\n",
      "T0 =  960.0  ; Iteration = 17\n",
      "--------------------------------------------------------------\n",
      "T0 =  1020.0  ; Iteration = 18\n",
      "--------------------------------------------------------------\n",
      "T0 =  1080.0  ; Iteration = 19\n",
      "--------------------------------------------------------------\n",
      "T0 =  1140.0  ; Iteration = 20\n",
      "--------------------------------------------------------------\n",
      "T0 =  1200.0  ; Iteration = 21\n",
      "--------------------------------------------------------------\n",
      "T0 =  1260.0  ; Iteration = 22\n",
      "--------------------------------------------------------------\n",
      "T0 =  1320.0  ; Iteration = 23\n",
      "--------------------------------------------------------------\n",
      "T0 =  1380.0  ; Iteration = 24\n",
      "--------------------------------------------------------------\n",
      "T0 =  1440.0  ; Iteration = 25\n",
      "--------------------------------------------------------------\n",
      "T0 =  1500.0  ; Iteration = 26\n",
      "--------------------------------------------------------------\n",
      "T0 =  1560.0  ; Iteration = 27\n",
      "--------------------------------------------------------------\n",
      "T0 =  1620.0  ; Iteration = 28\n",
      "--------------------------------------------------------------\n",
      "T0 =  1680.0  ; Iteration = 29\n",
      "--------------------------------------------------------------\n",
      "T0 =  1740.0  ; Iteration = 30\n",
      "--------------------------------------------------------------\n",
      "T0 =  1800.0  ; Iteration = 31\n",
      "--------------------------------------------------------------\n",
      "T0 =  1860.0  ; Iteration = 32\n",
      "--------------------------------------------------------------\n",
      "T0 =  1920.0  ; Iteration = 33\n",
      "--------------------------------------------------------------\n",
      "T0 =  1980.0  ; Iteration = 34\n",
      "time of simulation = 118.97074910425636\n"
     ]
    }
   ],
   "source": [
    "SpeciesDict, Definition, ModelDS = defineDFBAModel(SpeciesDict, MediaDF)\n",
    "InitialValues = {k:[v] for (k,v) in Definition.ics.items()}\n",
    "AllPoints = []\n",
    "StoreNegatives = set()\n",
    "P = InitialValues\n",
    "T0=0\n",
    "TEND = 2000\n",
    "TSPAN = 60\n",
    "Kmax=0.01\n",
    "i=0\n",
    "MaxIter= 1000\n",
    "TERMINATE = False\n",
    "starttime = time.clock()\n",
    "# PrevT0=0\n",
    "while T0 < TEND and i < MaxIter:\n",
    "#and not TERMINATE:\n",
    "    i+=1\n",
    "    print('--------------------------------------------------------------')\n",
    "    print('T0 = ' , T0, ' ; Iteration =', i)\n",
    "   # print(P['EX_gln_L__40__e__41__'][-1])\n",
    "    SpeciesDict, ModelDS = update(SpeciesDict, ModelDS, get_ss(P), Kmax)\n",
    "\n",
    "    if T0+TSPAN > TEND:\n",
    "        TSPAN = TEND - T0\n",
    "\n",
    "    ModelDS.set(tdata=[T0, T0 + TSPAN])\n",
    "    P = ModelDS.compute('test').sample() \n",
    "#     OldT = P['t'][-1]\n",
    "#     # Initialize\n",
    "    P, StoreNegatives = checkNegativeMetabolites(P,StoreNegatives) \n",
    "    T0 = P['t'][-1]\n",
    "    AllPoints.append(P)\n",
    "    \n",
    "#     for param in ModelDS.pars.keys():\n",
    "#         if 'gln_L' in param:\n",
    "#             print(param, ' = ', ModelDS.pars[param])\n",
    "\n",
    "endtime = time.clock()\n",
    "print('time of simulation = ' + str(endtime-starttime))\n"
   ]
  },
  {
   "cell_type": "code",
   "execution_count": 12,
   "metadata": {
    "collapsed": false
   },
   "outputs": [
    {
     "data": {
      "text/plain": [
       "<matplotlib.legend.Legend at 0x24076588>"
      ]
     },
     "execution_count": 12,
     "metadata": {},
     "output_type": "execute_result"
    },
    {
     "data": {
      "image/png": "[encoded data removed]",
      "text/plain": [
       "<matplotlib.figure.Figure at 0x2409c710>"
      ]
     },
     "metadata": {},
     "output_type": "display_data"
    }
   ],
   "source": [
    "TimePoints={}\n",
    "TimePoints['t'] =[]\n",
    "plt.figure(figsize=(10,5))\n",
    "for P in AllPoints:\n",
    "    TimePoints['t'] += list(P['t'])\n",
    "    \n",
    "for sp in SpeciesDict.keys():\n",
    "    TimePoints[SpeciesDict[sp]['Name']] = []\n",
    "    for P in AllPoints:\n",
    "        TimePoints[SpeciesDict[sp]['Name']]+=list(P[SpeciesDict[sp]['Name']])\n",
    "\n",
    "for k in TimePoints.keys():\n",
    "    if k!= 't':\n",
    "        plt.plot(TimePoints['t'], TimePoints[k], label=k)\n",
    "        plt.xlabel('Time (minutes)')\n",
    "        plt.ylabel('gdw')\n",
    "plt.xlabel('Time (minutes)')\n",
    "plt.ylabel('gdw')\n",
    "plt.legend(loc=2)"
   ]
  },
  {
   "cell_type": "code",
   "execution_count": 13,
   "metadata": {
    "collapsed": false,
    "scrolled": false
   },
   "outputs": [],
   "source": [
    "TimePoints={}\n",
    "TimePoints['t'] =[]\n",
    "\n",
    "for P in AllPoints:\n",
    "    TimePoints['t'] += list(P['t'])\n",
    "    \n",
    "for variable in StoreNegatives:\n",
    "    TimePoints[variable] = []\n",
    "    for P in AllPoints:\n",
    "        TimePoints[variable]+=list(P[variable])\n",
    "\n",
    "for k in TimePoints.keys():\n",
    "    if k != 't':\n",
    "        plt.figure()\n",
    "        plt.plot(TimePoints['t'], TimePoints[k])\n",
    "    else:\n",
    "        continue\n",
    "    plt.title(k)    \n",
    "    plt.xlabel('Time (minutes)')\n",
    "    #plt.ylim([0,0.5])\n",
    "    plt.ylabel('gdw')"
   ]
  },
  {
   "cell_type": "code",
   "execution_count": null,
   "metadata": {
    "collapsed": false
   },
   "outputs": [],
   "source": [
    "for i in range(0,len(AllPoints)):\n",
    "    if any(AllPoints[i]['EX_gly__40__e__41__'] < 0):\n",
    "        print(i)\n",
    "        print (AllPoints[i]['t'])\n",
    "        print(AllPoints[i]['EX_gly__40__e__41__'])\n"
   ]
  },
  {
   "cell_type": "code",
   "execution_count": null,
   "metadata": {
    "collapsed": false
   },
   "outputs": [],
   "source": [
    "[v for v in AllPoints[228]['EX_gly__40__e__41__']]"
   ]
  },
  {
   "cell_type": "code",
   "execution_count": null,
   "metadata": {
    "collapsed": false
   },
   "outputs": [],
   "source": [
    "len(AllPoints[228]['EX_gly__40__e__41__'])"
   ]
  },
  {
   "cell_type": "code",
   "execution_count": null,
   "metadata": {
    "collapsed": false
   },
   "outputs": [],
   "source": []
  },
  {
   "cell_type": "code",
   "execution_count": null,
   "metadata": {
    "collapsed": false
   },
   "outputs": [],
   "source": [
    "{k:v for k,v in ModelDS.pars.iteritems() if 'asn' in ModelDS.pars[k]}"
   ]
  },
  {
   "cell_type": "code",
   "execution_count": null,
   "metadata": {
    "collapsed": false
   },
   "outputs": [],
   "source": [
    "type(ModelDS.pars)"
   ]
  },
  {
   "cell_type": "code",
   "execution_count": null,
   "metadata": {
    "collapsed": false
   },
   "outputs": [],
   "source": [
    "ModelDS.pars.keys()"
   ]
  },
  {
   "cell_type": "code",
   "execution_count": null,
   "metadata": {
    "collapsed": false
   },
   "outputs": [],
   "source": [
    "Start =time.clock()\n",
    "print(any(AllPoints[228]['EX_gly__40__e__41__'] < 0.0))\n",
    "print(time.clock()-Start)\n",
    "\n",
    "Start =time.clock()\n",
    "print(AllPoints[228]['EX_gly__40__e__41__'][-1] < 0.0)\n",
    "print(time.clock()-Start)"
   ]
  },
  {
   "cell_type": "code",
   "execution_count": null,
   "metadata": {
    "collapsed": false
   },
   "outputs": [],
   "source": [
    "for species in SpeciesDict.keys():\n",
    "    print(SpeciesDict[species]['OriginalLB'])"
   ]
  },
  {
   "cell_type": "code",
   "execution_count": null,
   "metadata": {
    "collapsed": false
   },
   "outputs": [],
   "source": [
    "for species in SpeciesDict.keys():\n",
    "    print(SpeciesDict[species]['OriginalLB']['EX_gln_L__40__e__41__'])\n"
   ]
  },
  {
   "cell_type": "code",
   "execution_count": null,
   "metadata": {
    "collapsed": false
   },
   "outputs": [],
   "source": [
    "SpeciesDict, ModelDS = update(SpeciesDict, ModelDS, get_ss(P), Kmax)"
   ]
  },
  {
   "cell_type": "code",
   "execution_count": null,
   "metadata": {
    "collapsed": true
   },
   "outputs": [],
   "source": []
  }
 ],
 "metadata": {
  "anaconda-cloud": {},
  "kernelspec": {
   "display_name": "Python [default]",
   "language": "python",
   "name": "python3"
  },
  "language_info": {
   "codemirror_mode": {
    "name": "ipython",
    "version": 3
   },
   "file_extension": ".py",
   "mimetype": "text/x-python",
   "name": "python",
   "nbconvert_exporter": "python",
   "pygments_lexer": "ipython3",
   "version": "3.5.2"
  },
  "org": null
 },
 "nbformat": 4,
 "nbformat_minor": 0
}
