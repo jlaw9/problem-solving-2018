{
 "cells": [
  {
   "cell_type": "markdown",
   "metadata": {},
   "source": [
    "\n",
    "# Defining Dynamic FBA model for a single species\n",
    "\n"
   ]
  },
  {
   "cell_type": "markdown",
   "metadata": {},
   "source": [
    "\n",
    "## Import headers\n",
    "\n"
   ]
  },
  {
   "cell_type": "code",
   "execution_count": 1,
   "metadata": {
    "collapsed": true
   },
   "outputs": [],
   "source": [
    "%matplotlib inline\n",
    "import cobra\n",
    "import PyDSTool as dst\n",
    "import pandas as pd\n",
    "import matplotlib.pyplot as plt\n",
    "import copy\n",
    "import sys"
   ]
  },
  {
   "cell_type": "markdown",
   "metadata": {},
   "source": [
    ":RESULTS:\n",
    "nil:END:\n",
    "\n"
   ]
  },
  {
   "cell_type": "markdown",
   "metadata": {},
   "source": [
    "\n",
    "## File Paths for Media spec and FBA model\n",
    "\n"
   ]
  },
  {
   "cell_type": "code",
   "execution_count": 2,
   "metadata": {
    "collapsed": true
   },
   "outputs": [],
   "source": [
    "model = cobra.io.read_sbml_model('./data/Bacteroides_sp_1_1_14.xml')\n",
    "mediaFluxes = pd.read_csv('./data/VMH_HighFiber.tsv', sep='\\t')"
   ]
  },
  {
   "cell_type": "markdown",
   "metadata": {},
   "source": [
    ":RESULTS:\n",
    "nil:END:\n",
    "\n"
   ]
  },
  {
   "cell_type": "markdown",
   "metadata": {},
   "source": [
    "\n",
    "## Extract exchange reactions into variable definition and ics dictionary\n",
    "\n"
   ]
  },
  {
   "cell_type": "code",
   "execution_count": 3,
   "metadata": {
    "collapsed": false
   },
   "outputs": [],
   "source": [
    "def cleanupname(name):\n",
    "    \"\"\"\n",
    "    The reaction names in the model files \n",
    "    don't have brackets or parentheses. I replaced\n",
    "    those found in the mediaFluxes file.\n",
    "    \"\"\"\n",
    "    name = name.replace('[', '_LPAREN_')\n",
    "    name = name.replace(']', '_RPAREN_')\n",
    "    name = name.replace('(', '_LPAREN_')\n",
    "    name = name.replace(')', '_RPAREN_')\n",
    "    return name\n",
    "\n",
    "\"\"\"\n",
    "Initialize dictionaries for defining the ODE variables for a \n",
    "single species\n",
    "\"\"\"\n",
    "\n",
    "VarDef = dict()\n",
    "ParDef = dict()\n",
    "ICS_base = dict()\n",
    "\n",
    "solution = model.optimize() # Get fluxes\n",
    "all_exchanges = model.exchanges\n",
    "media_derived_components = dict()\n",
    "\n",
    "exchange_reaction_ids = [rxn.id for rxn in all_exchanges]\n"
   ]
  },
  {
   "cell_type": "markdown",
   "metadata": {},
   "source": [
    "\n",
    "### Extract the reaction names and flux values into a dictionary.\n",
    "\n"
   ]
  },
  {
   "cell_type": "code",
   "execution_count": 4,
   "metadata": {
    "collapsed": true
   },
   "outputs": [],
   "source": [
    "for i, row in mediaFluxes.iterrows():\n",
    "    N = cleanupname(row.Reaction)\n",
    "    media_derived_components[N] = row['Flux Value'] / (24.0*60.0) # Per minute"
   ]
  },
  {
   "cell_type": "markdown",
   "metadata": {},
   "source": [
    ":RESULTS:\n",
    "nil:END:\n",
    "\n"
   ]
  },
  {
   "cell_type": "markdown",
   "metadata": {},
   "source": [
    "\n",
    "### Get the outfluxes\n",
    "\n"
   ]
  },
  {
   "cell_type": "code",
   "execution_count": 5,
   "metadata": {
    "collapsed": true
   },
   "outputs": [],
   "source": [
    "# out_fluxes = []\n",
    "# for k in all_exchanges:\n",
    "#     if k.reversibility and k.id not in media_derived_components.keys():\n",
    "#         out_fluxes.append(k.id)\n",
    "\n",
    "ParDef['mu'] = solution.objective_value/60.0\n",
    "VarDef['X'] =  'mu * X'\n",
    "ICS_base['X'] = 1e-1\n",
    "\n",
    "for r in all_exchanges:\n",
    "    ParDef[r.id + '_Bact'] = solution.fluxes[r.id]/60\n",
    "    if r.id in media_derived_components.keys():\n",
    "        ParDef[r.id + '_influx'] = media_derived_components[r.id]\n",
    "        VarDef[r.id] = r.id + '_influx +' + r.id + '_Bact' + ' * X'\n",
    "    else: \n",
    "        VarDef[r.id] =  r.id + '_Bact' + ' * X'\n",
    "    ICS_base[r.id] = 1\n"
   ]
  },
  {
   "cell_type": "markdown",
   "metadata": {},
   "source": [
    ":RESULTS:\n",
    "nil:END:\n",
    "\n"
   ]
  },
  {
   "cell_type": "markdown",
   "metadata": {},
   "source": [
    "\n",
    "## Define PyDSTool Model\n",
    "\n"
   ]
  },
  {
   "cell_type": "code",
   "execution_count": 6,
   "metadata": {
    "collapsed": false
   },
   "outputs": [],
   "source": [
    "TSPAN = 100\n",
    "\n",
    "ICS = copy.deepcopy(ICS_base)\n",
    "def simulateModel(ModelDS, ParDef, ICS, TSPAN, tstart):\n",
    "    ModelDS.set(ics=ICS ,pars=ParDef,tdata=[tstart, tstart + TSPAN])\n",
    "    P = ModelDS.compute('test').sample(dt=0.1)\n",
    "    return(P)\n",
    "ICS = copy.deepcopy(ICS_base)\n",
    "ModelDef =dst.args(name='Bacteroides',\n",
    "                  varspecs=VarDef,\n",
    "                  pars=ParDef,\n",
    "                  ics=ICS,\n",
    "                  )\n",
    "\n",
    "ModelDS = dst.Vode_ODEsystem(ModelDef)\n",
    "\n",
    "P= {}\n",
    "#P['X'] = [1e-1]\n",
    "for k in ICS_base.keys():\n",
    "    P[k] = [ICS_base[k]]"
   ]
  },
  {
   "cell_type": "markdown",
   "metadata": {},
   "source": [
    ":RESULTS:\n",
    "nil:END:\n",
    "\n"
   ]
  },
  {
   "cell_type": "code",
   "execution_count": 7,
   "metadata": {
    "collapsed": false
   },
   "outputs": [
    {
     "data": {
      "text/plain": [
       "0.1"
      ]
     },
     "execution_count": 7,
     "metadata": {},
     "output_type": "execute_result"
    }
   ],
   "source": [
    "ICS['X']"
   ]
  },
  {
   "cell_type": "markdown",
   "metadata": {},
   "source": [
    "\n",
    "## Create Upperlimit\n",
    "\n"
   ]
  },
  {
   "cell_type": "code",
   "execution_count": 8,
   "metadata": {
    "collapsed": false
   },
   "outputs": [
    {
     "name": "stdout",
     "output_type": "stream",
     "text": [
      "0\n",
      "100.0\n",
      "200.0\n",
      "300.0\n",
      "\n",
      "382.1982198219822\n",
      "482.1982198219822\n",
      "582.1982198219822\n",
      "682.1982198219822\n",
      "782.1982198219822\n"
     ]
    }
   ],
   "source": [
    "AllPoints = []\n",
    "#AllPoints.append(P)\n",
    "OriginalLB = {}\n",
    "model_copy = copy.deepcopy(model)\n",
    "T0=0\n",
    "Tfinal= 800\n",
    "for r in model_copy.reactions:\n",
    "    if r in model_copy.exchanges:\n",
    "        OriginalLB[r.id] = r.lower_bound\n",
    "\n",
    "NegativeCrossing = []\n",
    "Lstop=len(P['X'])\n",
    "i=0\n",
    "MaxIter=50\n",
    "\n",
    "while T0 < Tfinal and i < MaxIter:\n",
    "    i+=1\n",
    "    print(T0)\n",
    "    all_exchanges = model_copy.exchanges\n",
    "    for r in all_exchanges:\n",
    "        model_copy.reactions.get_by_id(r.id).lower_bound = OriginalLB[r.id]*P[r.id][-1]/(0.05+P[r.id][-1])\n",
    "\n",
    "    solution = model_copy.optimize()\n",
    "#     for variable in NegativeCrossing:\n",
    "#         print(variable, ' LB = ', model_copy.reactions.get_by_id(variable).lower_bound)\n",
    "#         print(variable, 'flux', solution.fluxes[variable])\n",
    "\n",
    "    ParDef['mu'] = solution.objective_value/60.0\n",
    "    ICS['X'] = P['X'][-1]\n",
    "    for r in all_exchanges:\n",
    "        ParDef[r.id + '_Bact'] = solution.fluxes[r.id]/60 \n",
    "        ICS[r.id] = P[r.id][-1]\n",
    "    if T0+TSPAN > Tfinal:\n",
    "        TSPAN = Tfinal-T0\n",
    "    P = simulateModel(ModelDS, ParDef, ICS,TSPAN, T0)\n",
    "    TSTOP = T0+TSPAN\n",
    "    AllNegativeValues = {}\n",
    "    Lstop=len(P['X'])-1\n",
    "    NegativeCrossing = []\n",
    "    \n",
    "    for variable in VarDef.keys():\n",
    "        if P[variable][-1] < 0.0:\n",
    "            val = next((index for index,value in enumerate(P[variable]) if value < 0), None)\n",
    "            if val < Lstop:\n",
    "                        TSTOP = P['t'][val]\n",
    "                        Lstop = val\n",
    "    \n",
    "    if Lstop<len(P['X'])-1:\n",
    "        B={}\n",
    "        for variable in VarDef.keys():\n",
    "            B[variable]=P[variable][:Lstop-1]\n",
    "            if P[variable][Lstop]<0:\n",
    "#                 print(variable)\n",
    "                B[variable][-1]=0\n",
    "                NegativeCrossing.append(variable)\n",
    "        B['t']=P['t'][:Lstop-1]\n",
    "        P=B\n",
    "    TSTOP = P['t'][-1]\n",
    "\n",
    "\n",
    "                        \n",
    "    \n",
    "    T0 = TSTOP\n",
    "\n",
    "    AllPoints.append(P)"
   ]
  },
  {
   "cell_type": "code",
   "execution_count": 9,
   "metadata": {
    "collapsed": false
   },
   "outputs": [
    {
     "name": "stdout",
     "output_type": "stream",
     "text": [
      "178\n"
     ]
    },
    {
     "data": {
      "text/plain": [
       "<matplotlib.text.Text at 0x1de0f588>"
      ]
     },
     "execution_count": 9,
     "metadata": {},
     "output_type": "execute_result"
    },
    {
     "data": {
      "image/png": "[encoded data removed]",
      "text/plain": [
       "<matplotlib.figure.Figure at 0x1db53668>"
      ]
     },
     "metadata": {},
     "output_type": "display_data"
    }
   ],
   "source": [
    "print(Lstop)\n",
    "T=[]\n",
    "X=[]\n",
    "for v in VarDef.keys():\n",
    "        for P in AllPoints:\n",
    "                if 'h2o' not in v :\n",
    "                       # print(v)\n",
    "                        T = P['t']\n",
    "                        X = P[v]\n",
    "                        plt.plot(T,X)\n",
    "#                 T = P['t']\n",
    "#                 X = P['X']\n",
    "#                 plt.plot(T,X)\n",
    "\n",
    "plt.xlabel('Time (minutes)')\n",
    "plt.ylabel('gdw')"
   ]
  },
  {
   "cell_type": "code",
   "execution_count": 10,
   "metadata": {
    "collapsed": false
   },
   "outputs": [
    {
     "data": {
      "text/plain": [
       "<matplotlib.text.Text at 0x219fea20>"
      ]
     },
     "execution_count": 10,
     "metadata": {},
     "output_type": "execute_result"
    },
    {
     "data": {
      "image/png": "[encoded data removed]",
      "text/plain": [
       "<matplotlib.figure.Figure at 0x219dacf8>"
      ]
     },
     "metadata": {},
     "output_type": "display_data"
    }
   ],
   "source": [
    "T=[]\n",
    "X=[]\n",
    "for v in VarDef.keys():\n",
    "        for P in AllPoints:\n",
    "#                 if 'h2o' not in v :\n",
    "#                        # print(v)\n",
    "#                         T = P['t']\n",
    "#                         X = P[v]\n",
    "#                         plt.plot(T,X)\n",
    "                T = P['t']\n",
    "                X = P['X']\n",
    "                plt.plot(T,X)\n",
    "\n",
    "plt.xlabel('Time (minutes)')\n",
    "plt.ylabel('gdw')"
   ]
  },
  {
   "cell_type": "code",
   "execution_count": 11,
   "metadata": {
    "collapsed": false
   },
   "outputs": [],
   "source": [
    "# for k in media_derived_components.keys():\n",
    "#     if 'asn' in k:\n",
    "#         print(k)"
   ]
  },
  {
   "cell_type": "code",
   "execution_count": 12,
   "metadata": {
    "collapsed": false
   },
   "outputs": [],
   "source": [
    "# for rxn in model.exchanges:\n",
    "#     print(rxn.reversibility)"
   ]
  },
  {
   "cell_type": "markdown",
   "metadata": {
    "collapsed": false
   },
   "source": [
    "This is some text"
   ]
  },
  {
   "cell_type": "code",
   "execution_count": null,
   "metadata": {
    "collapsed": true
   },
   "outputs": [],
   "source": []
  }
 ],
 "metadata": {
  "anaconda-cloud": {},
  "kernelspec": {
   "display_name": "Python [conda root]",
   "language": "python",
   "name": "conda-root-py"
  },
  "language_info": {
   "codemirror_mode": {
    "name": "ipython",
    "version": 3
   },
   "file_extension": ".py",
   "mimetype": "text/x-python",
   "name": "python",
   "nbconvert_exporter": "python",
   "pygments_lexer": "ipython3",
   "version": "3.5.2"
  },
  "org": null
 },
 "nbformat": 4,
 "nbformat_minor": 1
}
