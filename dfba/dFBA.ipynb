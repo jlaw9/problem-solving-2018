{
 "cells": [
  {
   "cell_type": "code",
   "execution_count": 8,
   "metadata": {},
   "outputs": [],
   "source": [
    "import cobra\n",
    "import PyDSTool as dst\n",
    "import os\n",
    "HOME = os.path.expanduser('~')\n",
    "# PATH = '/data/amogh-jalihal/Problem-Solving/datasets/Bacteroides_sp_9_1_42FAA.xml'\n",
    "PATH = HOME + '/Documents/VT/Problem-Solving/data/AGORA/' + 'Bacteroides_sp_9_1_42FAA.xml'"
   ]
  },
  {
   "cell_type": "code",
   "execution_count": 9,
   "metadata": {},
   "outputs": [],
   "source": [
    "model = cobra.io.read_sbml_model(PATH)"
   ]
  },
  {
   "cell_type": "markdown",
   "metadata": {},
   "source": [
    "# Extract exchange reactions into variable definition and ics dictionary"
   ]
  },
  {
   "cell_type": "code",
   "execution_count": 10,
   "metadata": {
    "collapsed": true
   },
   "outputs": [],
   "source": [
    "InFlux_VarDef = dict()\n",
    "InFlux_ICS = dict()\n",
    "solution = model.optimize()\n",
    "\n",
    "name_mapper= {}\n",
    "\n",
    "def checkname(reaction_id):\n",
    "    numbers = ['0', '1', '2',\n",
    "              '3', '4', '5', '6',\n",
    "              '7', '8', '9']\n",
    "    #for i in range(0,len(reaction_id)):\n",
    "    #    if reaction_id[i] in numbers:\n",
    "            \n",
    "\n",
    "all_exchanges = model.exchanges\n",
    "for r in all_exchanges:\n",
    "    if solution.fluxes[r.id] <=0.0:\n",
    "        InFlux_VarDef[r.reactants[0].id] = '-V * ' + \\\n",
    "                                            r.reactants[0].id + \\\n",
    "                                            '/(Km + ' + r.reactants[0].id + ' )'\n",
    "        InFlux_ICS[r.reactants[0].id] = -1*solution.fluxes[r.id]\n",
    "Wrong_Names = ['26dap_M_e', '2obut_e', '4hba_c', '4hbz_e']\n",
    "\n",
    "Corrected_VarDef = {}\n",
    "Corrected_ICS = {}\n",
    "\n",
    "for k in InFlux_VarDef.keys():\n",
    "    if k not in Wrong_Names:\n",
    "        Corrected_VarDef[k] = InFlux_VarDef[k]\n",
    "        Corrected_ICS[k] = InFlux_ICS[k]"
   ]
  },
  {
   "cell_type": "markdown",
   "metadata": {},
   "source": [
    "# Translate to Model definition"
   ]
  },
  {
   "cell_type": "code",
   "execution_count": 11,
   "metadata": {},
   "outputs": [
    {
     "ename": "NameError",
     "evalue": "name 'ModelDS' is not defined",
     "output_type": "error",
     "traceback": [
      "\u001b[0;31m---------------------------------------------------------------------------\u001b[0m",
      "\u001b[0;31mNameError\u001b[0m                                 Traceback (most recent call last)",
      "\u001b[0;32m<ipython-input-11-d8d0d3109ad8>\u001b[0m in \u001b[0;36m<module>\u001b[0;34m()\u001b[0m\n\u001b[0;32m----> 1\u001b[0;31m \u001b[0mP\u001b[0m \u001b[0;34m=\u001b[0m \u001b[0mModelDS\u001b[0m\u001b[0;34m.\u001b[0m\u001b[0mcompute\u001b[0m\u001b[0;34m(\u001b[0m\u001b[0;34m'test'\u001b[0m\u001b[0;34m)\u001b[0m\u001b[0;34m.\u001b[0m\u001b[0msample\u001b[0m\u001b[0;34m(\u001b[0m\u001b[0;34m)\u001b[0m\u001b[0;34m\u001b[0m\u001b[0m\n\u001b[0m",
      "\u001b[0;31mNameError\u001b[0m: name 'ModelDS' is not defined"
     ]
    }
   ],
   "source": [
    "P = ModelDS.compute('test').sample()"
   ]
  },
  {
   "cell_type": "code",
   "execution_count": 87,
   "metadata": {},
   "outputs": [
    {
     "data": {
      "image/png": "[encoded data removed]",
      "text/plain": [
       "<matplotlib.figure.Figure at 0x7f4509c749b0>"
      ]
     },
     "metadata": {},
     "output_type": "display_data"
    }
   ],
   "source": [
    "import matplotlib.pyplot as plt\n",
    "for var in ModelDS.variables.keys():\n",
    "    plt.plot(P['t'], P[var])\n",
    "plt.show()"
   ]
  },
  {
   "cell_type": "code",
   "execution_count": 70,
   "metadata": {},
   "outputs": [
    {
     "name": "stdout",
     "output_type": "stream",
     "text": [
      "acgam_e 1.0\n",
      "adn_e 1.0\n",
      "arab_L_e 0.178783\n",
      "arg_L_e 0.15\n",
      "asn_L_e 0.225\n",
      "ca2_e 0.00247421531545\n",
      "chor_e 0.117214897125\n",
      "cit_e 0.0049484306309\n",
      "cl_e 0.00247421531545\n",
      "cobalt2_e 0.00247421531545\n",
      "cu2_e 0.00247421531545\n",
      "cys_L_e 0.033139543747\n",
      "cytd_e 1.0\n",
      "dcyt_e 0.00372174652477\n",
      "ddca_e 0.0460790682356\n",
      "drib_e 0.178783\n",
      "fe2_e 0.00247421531545\n",
      "fe3_e 0.00247421531545\n",
      "glu_L_e 0.18\n",
      "gly_e 0.45\n",
      "gsn_e 1.0\n",
      "h2o_e 2.69569517145\n",
      "h2s_e 0.0497889021299\n",
      "k_e 0.00247421531545\n",
      "leu_L_e 0.138978575854\n",
      "lys_L_e 0.105677071026\n",
      "mg2_e 0.00247421531545\n",
      "mn2_e 0.00247421531545\n",
      "nac_e 0.0049484306309\n",
      "orn_e 1.0\n",
      "pi_e 0.367598047991\n",
      "pro_L_e 0.18\n",
      "pydxn_e 0.00247421531545\n",
      "rib_D_e 0.178783\n",
      "rmn_e 0.148986\n",
      "ser_L_e 1.0\n",
      "so4_e 0.00247421531545\n",
      "thr_L_e 0.225\n",
      "thymd_e 0.00372174652477\n",
      "ttdca_e 0.00921581364711\n",
      "val_L_e 0.135353714499\n",
      "xyl_D_e 0.178783\n",
      "zn2_e 0.00247421531545\n"
     ]
    }
   ],
   "source": [
    "for k in Corrected_ICS.keys():\n",
    "    if abs(Corrected_ICS[k]) > 0.0:\n",
    "        print(k, Corrected_ICS[k])"
   ]
  },
  {
   "cell_type": "code",
   "execution_count": 82,
   "metadata": {},
   "outputs": [
    {
     "data": {
      "text/plain": [
       "cobra.core.reaction.Reaction"
      ]
     },
     "execution_count": 82,
     "metadata": {},
     "output_type": "execute_result"
    }
   ],
   "source": [
    "all_exchanges\n",
    "type(model.reactions.get_by_id('DM_4HBA'))"
   ]
  },
  {
   "cell_type": "code",
   "execution_count": 83,
   "metadata": {},
   "outputs": [
    {
     "name": "stdout",
     "output_type": "stream",
     "text": [
      "IN FLUXES                OUT FLUXES         OBJECTIVES\n",
      "-----------------------  -----------------  -----------------\n",
      "h2o_e           2.7      ppa_e      7.74    biomass484  0.317\n",
      "2obut_e         1        h_e        5.34\n",
      "acgam_e         1        nh4_e      5.1\n",
      "adn_e           1        co2_e      3.84\n",
      "cytd_e          1        ac_e       2.16\n",
      "gsn_e           1        gua_e      0.954\n",
      "orn_e           1        for_e      0.925\n",
      "ser_L_e         1        uri_e      0.914\n",
      "gly_e           0.45     ade_e      0.901\n",
      "pi_e            0.368    biomass_c  0.317\n",
      "dnarep_c        0.317    lac_L_e    0.149\n",
      "proteinsynth_c  0.317    urea_e     0.0587\n",
      "rnatrans_c      0.317\n",
      "asn_L_e         0.225\n",
      "thr_L_e         0.225\n",
      "glu_L_e         0.18\n",
      "pro_L_e         0.18\n",
      "arab_L_e        0.179\n",
      "drib_e          0.179\n",
      "rib_D_e         0.179\n",
      "xyl_D_e         0.179\n",
      "arg_L_e         0.15\n",
      "rmn_e           0.149\n",
      "leu_L_e         0.139\n",
      "val_L_e         0.135\n",
      "chor_e          0.117\n",
      "lys_L_e         0.106\n",
      "h2s_e           0.0498\n",
      "ddca_e          0.0461\n",
      "cys_L_e         0.0331\n",
      "26dap_M_e       0.00922\n",
      "ttdca_e         0.00922\n",
      "cit_e           0.00495\n",
      "nac_e           0.00495\n",
      "dcyt_e          0.00372\n",
      "thymd_e         0.00372\n",
      "ca2_e           0.00247\n",
      "cl_e            0.00247\n",
      "cobalt2_e       0.00247\n",
      "cu2_e           0.00247\n",
      "fe2_e           0.00247\n",
      "fe3_e           0.00247\n",
      "k_e             0.00247\n",
      "mg2_e           0.00247\n",
      "mn2_e           0.00247\n",
      "so4_e           0.00247\n",
      "zn2_e           0.00247\n",
      "pydxn_e         0.00247\n"
     ]
    }
   ],
   "source": [
    "model.summary()"
   ]
  },
  {
   "cell_type": "code",
   "execution_count": 85,
   "metadata": {},
   "outputs": [
    {
     "data": {
      "text/html": [
       "\n",
       "        <table>\n",
       "            <tr>\n",
       "                <td><strong>Metabolite identifier</strong></td><td>pi_e</td>\n",
       "            </tr><tr>\n",
       "                <td><strong>Name</strong></td><td>hydrogenphosphate</td>\n",
       "            </tr><tr>\n",
       "                <td><strong>Memory address</strong></td>\n",
       "                <td>0x07f450a3b1518</td>\n",
       "            </tr><tr>\n",
       "                <td><strong>Formula</strong></td><td>HO4P</td>\n",
       "            </tr><tr>\n",
       "                <td><strong>Compartment</strong></td><td>e</td>\n",
       "            </tr><tr>\n",
       "                <td><strong>In 4 reaction(s)</strong></td><td>\n",
       "                    EX_pi_LPAREN_e_RPAREN_, PIt6b, PIabc, PIt7ir</td>\n",
       "            </tr>\n",
       "        </table>"
      ],
      "text/plain": [
       "<Metabolite pi_e at 0x7f450a3b1518>"
      ]
     },
     "execution_count": 85,
     "metadata": {},
     "output_type": "execute_result"
    }
   ],
   "source": [
    "model.metabolites.get_by_id('pi_e')"
   ]
  },
  {
   "cell_type": "code",
   "execution_count": null,
   "metadata": {
    "collapsed": true
   },
   "outputs": [],
   "source": []
  }
 ],
 "metadata": {
  "kernelspec": {
   "display_name": "Python 2",
   "language": "python",
   "name": "python2"
  },
  "language_info": {
   "codemirror_mode": {
    "name": "ipython",
    "version": 2
   },
   "file_extension": ".py",
   "mimetype": "text/x-python",
   "name": "python",
   "nbconvert_exporter": "python",
   "pygments_lexer": "ipython2",
   "version": "2.7.14"
  }
 },
 "nbformat": 4,
 "nbformat_minor": 2
}
