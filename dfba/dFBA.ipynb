{
 "cells": [
  {
   "cell_type": "code",
   "execution_count": 5,
   "metadata": {
    "collapsed": true
   },
   "outputs": [],
   "source": [
    "import cobra\n",
    "import PyDSTool as dst\n",
    "import pandas as pd\n",
    "import matplotlib.pyplot as plt"
   ]
  },
  {
   "cell_type": "code",
   "execution_count": 7,
   "metadata": {
    "collapsed": true
   },
   "outputs": [],
   "source": [
    "model = cobra.io.read_sbml_model('./data/Bacteroides_sp_1_1_14.xml')\n",
    "mediaFluxes = pd.read_csv('./data/VMH_HighFiber.tsv', sep='\\t')"
   ]
  },
  {
   "cell_type": "markdown",
   "metadata": {},
   "source": [
    "# Extract exchange reactions into variable definition and ics dictionary"
   ]
  },
  {
   "cell_type": "code",
   "execution_count": 12,
   "metadata": {},
   "outputs": [],
   "source": [
    "def cleanupname(name):\n",
    "    \"\"\"\n",
    "    The reaction names in the model files \n",
    "    don't have brackets or parentheses. I replaced\n",
    "    those found in the mediaFluxes file.\n",
    "    \"\"\"\n",
    "    name = name.replace('[', '_LPAREN_')\n",
    "    name = name.replace(']', '_RPAREN_')\n",
    "    name = name.replace('(', '_LPAREN_')\n",
    "    name = name.replace(')', '_RPAREN_')\n",
    "    return name\n",
    "\n",
    "\"\"\"\n",
    "Initialize dictionaries for defining the ODE variables for a \n",
    "single species\n",
    "\"\"\"\n",
    "\n",
    "VarDef = dict()\n",
    "ParDef = dict()\n",
    "ICS = dict()\n",
    "\n",
    "solution = model.optimize() # Get fluxes\n",
    "all_exchanges = model.exchanges\n",
    "media_derived_components = dict()\n",
    "\n",
    "exchange_reaction_ids = [rxn.id for rxn in all_exchanges]\n",
    "\n",
    "\"\"\"\n",
    "Extract the reaction names and flux values into\n",
    "a dictionary\n",
    "\"\"\"\n",
    "for i, row in mediaFluxes.iterrows():\n",
    "    N = cleanupname(row.Reaction)\n",
    "    if N in exchange_reaction_ids:\n",
    "        media_derived_components[N] = row['Flux Value'] / 24.0 # Per hour\n",
    "        \n",
    "for r in all_exchanges:\n",
    "    if r.id in media_derived_components.keys():\n",
    "        ParDef[r.id + '_influx'] = media_derived_components[r.id]\n",
    "        ICS[r.id] = media_derived_components[r.id]\n",
    "        VarDef[r.id] = r.id + '_influx' \\\n",
    "                    + solution\n",
    "        \n",
    "\n",
    "Wrong_Names = ['26dap_M_e', '2obut_e', '4hba_c', '4hbz_e']\n",
    "\n",
    "# Corrected_VarDef = {}\n",
    "# Corrected_ICS = {}\n",
    "\n",
    "# for k in InFlux_VarDef.keys():\n",
    "#     if k not in Wrong_Names:\n",
    "#         Corrected_VarDef[k] = InFlux_VarDef[k]\n",
    "#         Corrected_ICS[k] = InFlux_ICS[k]"
   ]
  },
  {
   "cell_type": "markdown",
   "metadata": {},
   "source": [
    "# Translate to Model definition"
   ]
  },
  {
   "cell_type": "code",
   "execution_count": 13,
   "metadata": {},
   "outputs": [
    {
     "data": {
      "text/plain": [
       "23DHMPO           0.000000\n",
       "23PDE2            0.000000\n",
       "23PDE4            0.000000\n",
       "23PDE7            0.000000\n",
       "23PDE9            0.000000\n",
       "26DAPLLAT        -0.015469\n",
       "2AHBUTI           0.000000\n",
       "2MBCOATA          0.000000\n",
       "2MMALD            0.000000\n",
       "2MMALD2           0.000000\n",
       "2OBUTt2r          1.000000\n",
       "3HAD100           0.000000\n",
       "3HAD10M11         0.000000\n",
       "3HAD10M12         0.000000\n",
       "3HAD11M12         0.000000\n",
       "3HAD120           0.000000\n",
       "3HAD12M13         0.000000\n",
       "3HAD12M14         0.000000\n",
       "3HAD13M14         0.000000\n",
       "3HAD140           0.000000\n",
       "3HAD14M15         0.000000\n",
       "3HAD14M16         0.000000\n",
       "3HAD15M16         0.000000\n",
       "3HAD160           0.000000\n",
       "3HAD180           0.000000\n",
       "3HAD40            0.000000\n",
       "3HAD4M5           0.000000\n",
       "3HAD4M6           0.000000\n",
       "3HAD5M6           0.000000\n",
       "3HAD60            0.000000\n",
       "                    ...   \n",
       "VALt2r            0.180000\n",
       "XANt2             0.000000\n",
       "XPPT              0.000000\n",
       "XTSNH             0.000000\n",
       "XYLI1             0.178783\n",
       "XYLI2             0.000000\n",
       "XYLK              0.178783\n",
       "XYLt              0.178783\n",
       "YUMPS             0.000000\n",
       "ZN2t4            -0.001306\n",
       "ZNabc             0.000000\n",
       "dreplication      0.167276\n",
       "pbiosynthesis     0.167276\n",
       "r0010             0.000000\n",
       "r0060             0.967268\n",
       "r0082             0.000000\n",
       "r0120             0.000000\n",
       "r0127             0.185744\n",
       "r0339             0.000000\n",
       "r0345             0.000000\n",
       "r0422             0.000000\n",
       "r0671             0.000000\n",
       "r0708             0.000000\n",
       "r0775             0.000000\n",
       "r0777             0.000000\n",
       "r0792             0.000000\n",
       "r1144             0.000000\n",
       "r2137             0.001306\n",
       "rtranscription    0.167276\n",
       "biomass473        0.167276\n",
       "Name: fluxes, Length: 1051, dtype: float64"
      ]
     },
     "execution_count": 13,
     "metadata": {},
     "output_type": "execute_result"
    }
   ],
   "source": [
    "solution.fluxes"
   ]
  },
  {
   "cell_type": "code",
   "execution_count": null,
   "metadata": {
    "collapsed": true
   },
   "outputs": [],
   "source": []
  }
 ],
 "metadata": {
  "kernelspec": {
   "display_name": "Python 2",
   "language": "python",
   "name": "python2"
  },
  "language_info": {
   "codemirror_mode": {
    "name": "ipython",
    "version": 2
   },
   "file_extension": ".py",
   "mimetype": "text/x-python",
   "name": "python",
   "nbconvert_exporter": "python",
   "pygments_lexer": "ipython2",
   "version": "2.7.14"
  }
 },
 "nbformat": 4,
 "nbformat_minor": 2
}
