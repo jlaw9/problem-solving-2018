{
 "cells": [
  {
   "cell_type": "markdown",
   "metadata": {},
   "source": [
    "\n",
    "# Defining Dynamic FBA model for a single species\n",
    "\n"
   ]
  },
  {
   "cell_type": "markdown",
   "metadata": {},
   "source": [
    "\n",
    "## Import headers\n",
    "\n"
   ]
  },
  {
   "cell_type": "code",
   "execution_count": 1,
   "metadata": {
    "collapsed": true
   },
   "outputs": [],
   "source": [
    "%matplotlib inline\n",
    "import cobra\n",
    "import PyDSTool as dst\n",
    "import pandas as pd\n",
    "import matplotlib.pyplot as plt\n",
    "import copy\n",
    "import sys"
   ]
  },
  {
   "cell_type": "markdown",
   "metadata": {},
   "source": [
    ":RESULTS:\n",
    "nil:END:\n",
    "\n"
   ]
  },
  {
   "cell_type": "markdown",
   "metadata": {},
   "source": [
    "\n",
    "## File Paths for Media spec and FBA model\n",
    "\n"
   ]
  },
  {
   "cell_type": "code",
   "execution_count": 2,
   "metadata": {
    "collapsed": true
   },
   "outputs": [],
   "source": [
    "model = cobra.io.read_sbml_model('./data/Bacteroides_sp_1_1_14.xml')\n",
    "mediaFluxes = pd.read_csv('./data/VMH_HighFiber.tsv', sep='\\t')"
   ]
  },
  {
   "cell_type": "markdown",
   "metadata": {},
   "source": [
    ":RESULTS:\n",
    "nil:END:\n",
    "\n"
   ]
  },
  {
   "cell_type": "markdown",
   "metadata": {},
   "source": [
    "\n",
    "## Extract exchange reactions into variable definition and ics dictionary\n",
    "\n"
   ]
  },
  {
   "cell_type": "code",
   "execution_count": 3,
   "metadata": {
    "collapsed": false
   },
   "outputs": [],
   "source": [
    "def cleanupname(name):\n",
    "    \"\"\"\n",
    "    The reaction names in the model files \n",
    "    don't have brackets or parentheses. I replaced\n",
    "    those found in the mediaFluxes file.\n",
    "    \"\"\"\n",
    "    name = name.replace('[', '_LPAREN_')\n",
    "    name = name.replace(']', '_RPAREN_')\n",
    "    name = name.replace('(', '_LPAREN_')\n",
    "    name = name.replace(')', '_RPAREN_')\n",
    "    return name\n",
    "\n",
    "\"\"\"\n",
    "Initialize dictionaries for defining the ODE variables for a \n",
    "single species\n",
    "\"\"\"\n",
    "\n",
    "VarDef = dict()\n",
    "ParDef_base = dict()\n",
    "ICS_base = dict()\n",
    "\n",
    "solution = model.optimize() # Get fluxes\n",
    "all_exchanges = model.exchanges\n",
    "media_derived_components = dict()\n",
    "\n",
    "exchange_reaction_ids = [rxn.id for rxn in all_exchanges]"
   ]
  },
  {
   "cell_type": "markdown",
   "metadata": {},
   "source": [
    "\n",
    "### Extract the reaction names and flux values into a dictionary.\n",
    "\n"
   ]
  },
  {
   "cell_type": "code",
   "execution_count": 4,
   "metadata": {
    "collapsed": true
   },
   "outputs": [],
   "source": [
    "for i, row in mediaFluxes.iterrows():\n",
    "    N = cleanupname(row.Reaction)\n",
    "    if N in exchange_reaction_ids:\n",
    "        media_derived_components[N] = row['Flux Value'] / (24.0*60.0) # Per minute"
   ]
  },
  {
   "cell_type": "markdown",
   "metadata": {},
   "source": [
    ":RESULTS:\n",
    "nil:END:\n",
    "\n"
   ]
  },
  {
   "cell_type": "markdown",
   "metadata": {},
   "source": [
    "\n",
    "### Get the outfluxes\n",
    "\n"
   ]
  },
  {
   "cell_type": "code",
   "execution_count": 9,
   "metadata": {
    "collapsed": true
   },
   "outputs": [],
   "source": [
    "out_fluxes = []\n",
    "for k in all_exchanges:\n",
    "    if k.reversibility and k.id not in media_derived_components.keys():\n",
    "        out_fluxes.append(k.id)\n",
    "\n",
    "ParDef_base['mu'] = solution.objective_value/60.0\n",
    "VarDef['X'] =  'mu * X'\n",
    "ICS_base['X'] = 1e-1\n",
    "# for r in all_exchanges:\n",
    "#     if r.id in media_derived_components.keys():\n",
    "#         ParDef_base[r.id + '_influx'] = media_derived_components[r.id]\n",
    "#         ParDef_base[r.id + '_consumption'] = solution.fluxes[r.id]\n",
    "#         ICS_base[r.id] = 0 #media_derived_components[r.id]\n",
    "#         VarDef[r.id] = r.id + '_influx + ' + r.id + '_consumption' + ' * X'\n",
    "#     if r.id in out_fluxes:\n",
    "#         ParDef_base[r.id + '_outflux'] = solution.fluxes[r.id] \n",
    "#         VarDef[r.id] = r.id + '_outflux * X'\n",
    "#         ICS_base[r.id] = 0.0\n",
    "for r in all_exchanges:\n",
    "    ParDef_base[r.id + '_Bact'] = solution.fluxes[r.id]\n",
    "    if r.id in media_derived_components.keys():\n",
    "        ParDef_base[r.id + '_influx'] = media_derived_components[r.id]\n",
    "        VarDef[r.id] = r.id + '_influx +' + r.id + '_Bact' + ' * X'\n",
    "    else: \n",
    "        VarDef[r.id] =  r.id + '_Bact' + ' * X'\n",
    "    ICS_base[r.id] = 1\n",
    "#     if r.id in out_fluxes:\n",
    "#         ParDef_base[r.id + '_outflux'] = solution.fluxes[r.id] \n",
    "#         VarDef[r.id] = r.id + '_outflux * X'\n",
    "#         ICS_base[r.id] = 0.0"
   ]
  },
  {
   "cell_type": "markdown",
   "metadata": {},
   "source": [
    ":RESULTS:\n",
    "nil:END:\n",
    "\n"
   ]
  },
  {
   "cell_type": "markdown",
   "metadata": {},
   "source": [
    "\n",
    "## Define PyDSTool Model\n",
    "\n"
   ]
  },
  {
   "cell_type": "code",
   "execution_count": 6,
   "metadata": {
    "collapsed": false
   },
   "outputs": [],
   "source": [
    "TSPAN = 5\n",
    "\n",
    "ParDef = copy.deepcopy(ParDef_base)\n",
    "ICS = copy.deepcopy(ICS_base)\n",
    "def simulateModel(ModelDS, ParDef, ICS, TSPAN, tstart):\n",
    "    ModelDS.set(ics=ICS ,pars=ParDef,tdata=[tstart, tstart + TSPAN])\n",
    "    P = ModelDS.compute('test').sample(dt=0.1)\n",
    "    return(P)\n",
    "ParDef = copy.deepcopy(ParDef_base)\n",
    "ICS = copy.deepcopy(ICS_base)\n",
    "ModelDef =dst.args(name='Bacteroides',\n",
    "                  varspecs=VarDef,\n",
    "                  pars=ParDef,\n",
    "                  ics=ICS,\n",
    "                  )\n",
    "\n",
    "ModelDS = dst.Vode_ODEsystem(ModelDef)\n",
    "\n",
    "# P = simulateModel(ModelDS, ParDef, ICS,TSPAN, 0.0)\n",
    "# for variable in VarDef.keys():\n",
    "#     if P[variable][-1] < 0.0:\n",
    "#         for i in range(0, len(P[variable])):\n",
    "#             if P[variable][i] < 0.0:\n",
    "#                 print(variable, i, P['t'][i])\n",
    "#                 sys.exit()\n",
    "P= {}\n",
    "#P['X'] = [1e-1]\n",
    "for k in ICS_base.keys():\n",
    "    P[k] = [ICS_base[k]]"
   ]
  },
  {
   "cell_type": "markdown",
   "metadata": {},
   "source": [
    ":RESULTS:\n",
    "nil:END:\n",
    "\n"
   ]
  },
  {
   "cell_type": "code",
   "execution_count": 7,
   "metadata": {
    "collapsed": false
   },
   "outputs": [
    {
     "data": {
      "text/plain": [
       "0.1"
      ]
     },
     "execution_count": 7,
     "metadata": {},
     "output_type": "execute_result"
    }
   ],
   "source": [
    "ICS['X']"
   ]
  },
  {
   "cell_type": "markdown",
   "metadata": {},
   "source": [
    "\n",
    "## Create Upperlimit\n",
    "\n"
   ]
  },
  {
   "cell_type": "code",
   "execution_count": 13,
   "metadata": {
    "collapsed": false
   },
   "outputs": [
    {
     "name": "stdout",
     "output_type": "stream",
     "text": [
      "0\n",
      "0.0\n",
      "5\n",
      "5.0\n",
      "10\n",
      "10.0\n",
      "15\n",
      "15.0\n",
      "20\n",
      "20.0\n"
     ]
    }
   ],
   "source": [
    "AllPoints = []\n",
    "#AllPoints.append(P)\n",
    "OriginalLB = {}\n",
    "model_copy = copy.deepcopy(model)\n",
    "T0=0\n",
    "\n",
    "for r in model_copy.reactions:\n",
    "    if r in model_copy.exchanges:\n",
    "        OriginalLB[r.id] = r.lower_bound\n",
    "\n",
    "for i in range(0, 5):\n",
    "    print(T0)\n",
    "    #solution = model_copy.optimize()\n",
    "    all_exchanges = model_copy.exchanges\n",
    "    for r in all_exchanges:\n",
    "#         if r.id in media_derived_components.keys():\n",
    "#             model_copy.reactions.get_by_id(r.id).lower_bound = OriginalLB[r.id]*P[r.id][-1]/(0.0005+P[r.id][-1])\n",
    "        model_copy.reactions.get_by_id(r.id).lower_bound = OriginalLB[r.id]*P[r.id][-1]/(0.0005+P[r.id][-1])\n",
    "\n",
    "        if r.id == 'EX_adn_L_LPAREN_e_RPAREN_':\n",
    "            print(r.id + ': ' +str(OriginalLB[r.id]) + ' -> ' + str(model_copy.reactions.get_by_id(r.id).lower_bound))\n",
    "    solution = model_copy.optimize()\n",
    "    ParDef['mu'] = solution.objective_value/60.0\n",
    "    ICS['X'] = P['X'][-1]\n",
    "    for r in all_exchanges:\n",
    "        ParDef_base[r.id + '_Bact'] = solution.fluxes[r.id]\n",
    "        ICS[r.id] = P[r.id][-1]\n",
    "#     for r in all_exchanges:\n",
    "#         if r.id in media_derived_components.keys():\n",
    "#             ParDef[r.id + '_influx'] = media_derived_components[r.id]\n",
    "#             ParDef[r.id + '_consumption'] = solution.fluxes[r.id]\n",
    "#             ICS[r.id] = P[r.id][-1]\n",
    "#         if r.id in out_fluxes:\n",
    "#             ParDef[r.id + '_outflux'] = solution.fluxes[r.id] \n",
    "#             ICS[r.id] = P[r.id][-1] # 0.0\n",
    "    #del P\n",
    "    P = simulateModel(ModelDS, ParDef, ICS,TSPAN, T0)\n",
    "    TSTOP = T0+TSPAN\n",
    "    AllNegativeValues = {}\n",
    "    for variable in VarDef.keys():\n",
    "        if P[variable][-1] < 0.0:\n",
    "            for i in range(0, len(P[variable])):\n",
    "                if P[variable][i] < 0.0:\n",
    "                    if P['t'][i] < TSTOP:\n",
    "                        TSTOP = P['t'][i]\n",
    "                    break\n",
    "    print(TSTOP)\n",
    "    P = simulateModel(ModelDS, ParDef, ICS,TSPAN, T0)\n",
    "\n",
    "#    print('EX_glu_L_LPAREN_e_RPAREN_' + str(P['EX_glu_L_LPAREN_e_RPAREN_'][-1]))\n",
    "    T0 += TSPAN\n",
    "\n",
    "    AllPoints.append(P)"
   ]
  },
  {
   "cell_type": "code",
   "execution_count": null,
   "metadata": {
    "collapsed": false
   },
   "outputs": [],
   "source": [
    "T=[]\n",
    "X=[]\n",
    "for v in VarDef.keys():\n",
    "        for P in AllPoints:\n",
    "                if 'h2o' not in v :\n",
    "                       # print(v)\n",
    "                        T = P['t']\n",
    "                        X = P[v]\n",
    "                        plt.plot(T,X)\n",
    "#                 T = P['t']\n",
    "#                 X = P['X']\n",
    "#                 plt.plot(T,X)\n",
    "\n",
    "plt.xlabel('Time (minutes)')\n",
    "plt.ylabel('gdw')"
   ]
  },
  {
   "cell_type": "code",
   "execution_count": null,
   "metadata": {
    "collapsed": false
   },
   "outputs": [],
   "source": [
    "T=[]\n",
    "X=[]\n",
    "for v in VarDef.keys():\n",
    "        for P in AllPoints:\n",
    "#                 if 'h2o' not in v :\n",
    "#                        # print(v)\n",
    "#                         T = P['t']\n",
    "#                         X = P[v]\n",
    "#                         plt.plot(T,X)\n",
    "                T = P['t']\n",
    "                X = P['X']\n",
    "                plt.plot(T,X)\n",
    "\n",
    "plt.xlabel('Time (minutes)')\n",
    "plt.ylabel('gdw')"
   ]
  },
  {
   "cell_type": "code",
   "execution_count": null,
   "metadata": {
    "collapsed": false
   },
   "outputs": [],
   "source": [
    "for k in media_derived_components.keys():\n",
    "    if 'asn' in k:\n",
    "        print(k)"
   ]
  },
  {
   "cell_type": "code",
   "execution_count": null,
   "metadata": {
    "collapsed": false
   },
   "outputs": [],
   "source": [
    "for rxn in model.exchanges:\n",
    "    print(rxn.reversibility)"
   ]
  },
  {
   "cell_type": "code",
   "execution_count": null,
   "metadata": {
    "collapsed": true
   },
   "outputs": [],
   "source": []
  }
 ],
 "metadata": {
  "anaconda-cloud": {},
  "kernelspec": {
   "display_name": "Python [conda root]",
   "language": "python",
   "name": "conda-root-py"
  },
  "language_info": {
   "codemirror_mode": {
    "name": "ipython",
    "version": 3
   },
   "file_extension": ".py",
   "mimetype": "text/x-python",
   "name": "python",
   "nbconvert_exporter": "python",
   "pygments_lexer": "ipython3",
   "version": "3.5.2"
  },
  "org": null
 },
 "nbformat": 4,
 "nbformat_minor": 1
}
