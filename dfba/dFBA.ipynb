{
 "cells": [
  {
   "cell_type": "code",
   "execution_count": 1,
   "metadata": {
    "collapsed": true
   },
   "outputs": [],
   "source": [
    "import cobra\n",
    "import PyDSTool as dst\n",
    "import pandas as pd\n",
    "import matplotlib.pyplot as plt"
   ]
  },
  {
   "cell_type": "code",
   "execution_count": 2,
   "metadata": {
    "collapsed": true
   },
   "outputs": [],
   "source": [
    "model = cobra.io.read_sbml_model('./data/Bacteroides_sp_1_1_14.xml')\n",
    "mediaFluxes = pd.read_csv('./data/VMH_HighFiber.tsv', sep='\\t')"
   ]
  },
  {
   "cell_type": "markdown",
   "metadata": {},
   "source": [
    "# Extract exchange reactions into variable definition and ics dictionary"
   ]
  },
  {
   "cell_type": "code",
   "execution_count": 75,
   "metadata": {},
   "outputs": [],
   "source": [
    "def cleanupname(name):\n",
    "    \"\"\"\n",
    "    The reaction names in the model files \n",
    "    don't have brackets or parentheses. I replaced\n",
    "    those found in the mediaFluxes file.\n",
    "    \"\"\"\n",
    "    name = name.replace('[', '_LPAREN_')\n",
    "    name = name.replace(']', '_RPAREN_')\n",
    "    name = name.replace('(', '_LPAREN_')\n",
    "    name = name.replace(')', '_RPAREN_')\n",
    "    return name\n",
    "\n",
    "\"\"\"\n",
    "Initialize dictionaries for defining the ODE variables for a \n",
    "single species\n",
    "\"\"\"\n",
    "\n",
    "VarDef = dict()\n",
    "ParDef = dict()\n",
    "ICS = dict()\n",
    "\n",
    "solution = model.optimize() # Get fluxes\n",
    "all_exchanges = model.exchanges\n",
    "media_derived_components = dict()\n",
    "\n",
    "exchange_reaction_ids = [rxn.id for rxn in all_exchanges]\n",
    "\n",
    "\"\"\"\n",
    "Extract the reaction names and flux values into\n",
    "a dictionary\n",
    "\"\"\"\n",
    "for i, row in mediaFluxes.iterrows():\n",
    "    N = cleanupname(row.Reaction)\n",
    "    if N in exchange_reaction_ids:\n",
    "        media_derived_components[N] = row['Flux Value'] / (24.0*60.0) # Per minute\n",
    "\n",
    "\"\"\"\n",
    "Get the outfluxes\n",
    "\"\"\"\n",
    "out_fluxes = []\n",
    "for k in all_exchanges:\n",
    "    if k.reversibility and k.id not in media_derived_components.keys():\n",
    "        out_fluxes.append(k.id)\n",
    "\n",
    "ParDef['Dilution'] = 0.00385 # half life of 3 hours\n",
    "VarDef['X'] = str(solution.objective_value/60.0) + '* X'\n",
    "ICS['X'] = 1.0\n",
    "for r in all_exchanges:\n",
    "    if r.id in media_derived_components.keys():\n",
    "        ParDef[r.id + '_influx'] = media_derived_components[r.id]\n",
    "        ParDef[r.id + '_consumption'] = solution.fluxes[r.id]\n",
    "        ICS[r.id] = media_derived_components[r.id]\n",
    "        VarDef[r.id] = r.id + '_influx + ' + r.id + '_consumption' + '* X *' + r.id\n",
    "    if r.id in out_fluxes:\n",
    "        ParDef[r.id + '_outflux'] = solution.fluxes[r.id] \n",
    "        VarDef[r.id] = r.id + '_outflux * X'\n",
    "        ICS[r.id] = 0.0"
   ]
  },
  {
   "cell_type": "code",
   "execution_count": 89,
   "metadata": {},
   "outputs": [],
   "source": [
    "ModelDef = dst.args(name='Bacteroides',\n",
    "                   varspecs=VarDef,\n",
    "                   ics=ICS,\n",
    "                   pars=ParDef,\n",
    "                   tdata=[0,100])\n",
    "\n",
    "ModelDS = dst.Vode_ODEsystem(ModelDef)\n",
    "P = ModelDS.compute('test').sample()"
   ]
  },
  {
   "cell_type": "code",
   "execution_count": 91,
   "metadata": {},
   "outputs": [
    {
     "data": {
      "image/png": "[encoded data removed]",
      "text/plain": [
       "<matplotlib.figure.Figure at 0x7f44f1b05898>"
      ]
     },
     "metadata": {},
     "output_type": "display_data"
    }
   ],
   "source": [
    "# for k in media_derived_components.keys():\n",
    "#     plt.plot(P['t'], P[k],label=k)\n",
    "# for k in out_fluxes:\n",
    "#     plt.plot(P['t'], P[k], label=k)\n",
    "plt.plot(P['t'], P['EX_h2o_LPAREN_e_RPAREN_'],)\n",
    "\n",
    "plt.legend()\n",
    "plt.show()"
   ]
  },
  {
   "cell_type": "code",
   "execution_count": 92,
   "metadata": {},
   "outputs": [
    {
     "data": {
      "text/plain": [
       "-1.0"
      ]
     },
     "execution_count": 92,
     "metadata": {},
     "output_type": "execute_result"
    }
   ],
   "source": [
    "solution.fluxes['EX_2obut_LPAREN_e_RPAREN_']"
   ]
  },
  {
   "cell_type": "code",
   "execution_count": 72,
   "metadata": {},
   "outputs": [
    {
     "data": {
      "text/plain": [
       "0.0038508176697774738"
      ]
     },
     "execution_count": 72,
     "metadata": {},
     "output_type": "execute_result"
    }
   ],
   "source": [
    "np.log(2)/180"
   ]
  },
  {
   "cell_type": "code",
   "execution_count": null,
   "metadata": {
    "collapsed": true
   },
   "outputs": [],
   "source": []
  }
 ],
 "metadata": {
  "kernelspec": {
   "display_name": "Python 2",
   "language": "python",
   "name": "python2"
  },
  "language_info": {
   "codemirror_mode": {
    "name": "ipython",
    "version": 3
   },
   "file_extension": ".py",
   "mimetype": "text/x-python",
   "name": "python",
   "nbconvert_exporter": "python",
   "pygments_lexer": "ipython3",
   "version": "3.6.3"
  }
 },
 "nbformat": 4,
 "nbformat_minor": 2
}
