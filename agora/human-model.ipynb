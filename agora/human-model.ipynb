{
 "cells": [
  {
   "cell_type": "markdown",
   "metadata": {},
   "source": [
    "# Human metabolic model\n",
    "Recon3D_3.01 downloaded from https://vmh.uni.lu/#downloadview \n"
   ]
  },
  {
   "cell_type": "code",
   "execution_count": 2,
   "metadata": {},
   "outputs": [],
   "source": [
    "# -*- coding:utf-8 -*-\n",
    "import cobra\n",
    "import glob\n",
    "from tqdm import tqdm\n",
    "from collections import defaultdict"
   ]
  },
  {
   "cell_type": "code",
   "execution_count": 5,
   "metadata": {},
   "outputs": [],
   "source": [
    "# dictionary of the in and out metabolites and their fluxes for each species in the model\n",
    "# species:\n",
    "#   metabolite:\n",
    "#     flux\n",
    "human_met = {}\n",
    "human_model_file = \"agora-1_02/human-model/Recon3D_301_SBML/Recon3D_301.xml\"\n",
    "model = cobra.io.read_sbml_model(human_model_file)\n",
    "# first get the solvers output of the model\n",
    "solution = model.optimize()\n",
    "\n",
    "# for each of the \"exchange\" reactions, find the incoming and outgoing fluxes \n",
    "# using the initial stoichiometry matrix value multiplied by the solutions flux for that reaction\n",
    "# For example, a metabolite whose initial stoich value was -1 but has a flux value of -5 would be incoming.\n",
    "fluxes = {}\n",
    "for rxn in model.exchanges:\n",
    "    for met in rxn.metabolites:\n",
    "        stoich = rxn.metabolites[met]\n",
    "        flux = stoich * solution.fluxes[rxn.id]\n",
    "        fluxes[met.name] = flux\n",
    "#in_fluxes = [m for m in fluxes if fluxes[m] > 0]\n",
    "#out_fluxes = [m for m in fluxes if fluxes[m] < 0]\n",
    "#print(\"%d in fluxes, %d out fluxes\" % (len(in_fluxes), len(out_fluxes)))\n",
    "in_out_fluxes = {m: fluxes[m] for m in fluxes if fluxes[m] != 0}\n",
    "## the model id is the ID of the strain\n",
    "#species_io_met[model.id] = fluxes\n",
    "\n",
    "human_met = fluxes"
   ]
  },
  {
   "cell_type": "code",
   "execution_count": 6,
   "metadata": {},
   "outputs": [],
   "source": [
    "# write them to a file\n",
    "human_fluxes_file = \"agora-1_02/human-model/fluxes.tsv\"\n",
    "with open(human_fluxes_file, 'w') as out:\n",
    "    out.write(''.join(\"%s\\t%s\\n\" % (m, str(f)) for m, f in human_met.items()))"
   ]
  },
  {
   "cell_type": "code",
   "execution_count": null,
   "metadata": {},
   "outputs": [],
   "source": []
  }
 ],
 "metadata": {
  "kernelspec": {
   "display_name": "Python 2",
   "language": "python",
   "name": "python2"
  },
  "language_info": {
   "codemirror_mode": {
    "name": "ipython",
    "version": 2
   },
   "file_extension": ".py",
   "mimetype": "text/x-python",
   "name": "python",
   "nbconvert_exporter": "python",
   "pygments_lexer": "ipython2",
   "version": "2.7.14"
  }
 },
 "nbformat": 4,
 "nbformat_minor": 2
}
