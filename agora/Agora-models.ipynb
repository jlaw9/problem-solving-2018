{
 "cells": [
  {
   "cell_type": "code",
   "execution_count": 3,
   "metadata": {},
   "outputs": [],
   "source": [
    "# -*- coding:utf-8 -*-\n",
    "import cobra\n",
    "import glob\n",
    "from tqdm import tqdm\n",
    "from collections import defaultdict"
   ]
  },
  {
   "cell_type": "code",
   "execution_count": 37,
   "metadata": {},
   "outputs": [
    {
     "name": "stderr",
     "output_type": "stream",
     "text": [
      "100%|██████████| 818/818 [17:32<00:00,  1.29s/it]\n"
     ]
    }
   ],
   "source": [
    "# dictionary of the in and out metabolites and their fluxes for each species in the model\n",
    "# species:\n",
    "#   metabolite:\n",
    "#     flux\n",
    "species_io_met = {}\n",
    "# load the e coli model as an example to get started\n",
    "models_dir = \"agora-1_02/sbml\"\n",
    "for m_file in tqdm(glob.glob(\"%s/*.xml\" % (models_dir))):\n",
    "    model = cobra.io.read_sbml_model(m_file)\n",
    "    # first get the solvers output of the model\n",
    "    solution = model.optimize()\n",
    "    \n",
    "    # for each of the \"exchange\" reactions, find the incoming and outgoing fluxes \n",
    "    # using the initial stoichiometry matrix value multiplied by the solutions flux for that reaction\n",
    "    # For example, a metabolite whose initial stoich value was -1 but has a flux value of -5 would be incoming.\n",
    "    fluxes = {}\n",
    "    for rxn in model.exchanges:\n",
    "        for met in rxn.metabolites:\n",
    "            stoich = rxn.metabolites[met]\n",
    "            flux = stoich * solution.fluxes[rxn.id]\n",
    "            fluxes[met.name] = flux\n",
    "    #in_fluxes = [m for m in fluxes if fluxes[m] > 0]\n",
    "    #out_fluxes = [m for m in fluxes if fluxes[m] < 0]\n",
    "    #print(\"%d in fluxes, %d out fluxes\" % (len(in_fluxes), len(out_fluxes)))\n",
    "    in_out_fluxes = {m: fluxes[m] for m in fluxes if fluxes[m] != 0}\n",
    "    # the model id is the ID of the strain\n",
    "    species_io_met[model.id] = fluxes"
   ]
  },
  {
   "cell_type": "code",
   "execution_count": 41,
   "metadata": {},
   "outputs": [],
   "source": [
    "out_dir = \"agora-1_02\"\n",
    "metabolites_file = \"%s/metabolites.tsv\" % (out_dir)\n",
    "species_metabolites_fluxes_file = \"%s/species_io_fluxes.tsv\" % (out_dir)"
   ]
  },
  {
   "cell_type": "code",
   "execution_count": 41,
   "metadata": {},
   "outputs": [
    {
     "name": "stdout",
     "output_type": "stream",
     "text": [
      "Writing all 450 metabolites to metabolites.tsv\n"
     ]
    }
   ],
   "source": [
    "# first just write the metabolites along with their counts in all species to make sure we're in the right ball-park\n",
    "metabolites = defaultdict(int)\n",
    "for s in species_io_met:\n",
    "    for m in species_io_met[s]:\n",
    "        metabolites[m] += 1\n",
    "\n",
    "print(\"Writing all %d metabolites to %s\" % (len(metabolites.keys()), metabolites_file))\n",
    "with open(metabolites_file, 'w') as out:\n",
    "    out.write(\"\".join([\"%s\\t%d\\n\" % (m, metabolites[m]) for m in sorted(metabolites)]))\n",
    "    "
   ]
  },
  {
   "cell_type": "code",
   "execution_count": 46,
   "metadata": {},
   "outputs": [
    {
     "name": "stdout",
     "output_type": "stream",
     "text": [
      "Writing the flux for each species and each metabolite to species_io_fluxes.tsv\n"
     ]
    }
   ],
   "source": [
    "# write the parsed info to a file so it will be easier to read (takes about 15 minutes from scratch)\n",
    "# I could write it to a matrix\n",
    "table = []\n",
    "# write the header line\n",
    "table.append([\"species\"] + sorted(metabolites))\n",
    "# now write the species and metabolites\n",
    "for s in species_io_met:\n",
    "    row = [s]\n",
    "    for m in sorted(metabolites):\n",
    "        if m in species_io_met[s]:\n",
    "            row.append(str(species_io_met[s][m]))\n",
    "        else:\n",
    "            row.append(\"NA\")\n",
    "    table.append(row)\n",
    "\n",
    "print(\"Writing the flux for each species and each metabolite to %s\" % (species_metabolites_fluxes_file))\n",
    "with open(species_metabolites_fluxes_file, 'w') as out:\n",
    "    out.write('\\n'.join(['\\t'.join(row) for row in table]) + '\\n')"
   ]
  },
  {
   "cell_type": "code",
   "execution_count": 11,
   "metadata": {},
   "outputs": [
    {
     "name": "stdout",
     "output_type": "stream",
     "text": [
      "818 species, 450 metabolites\n"
     ]
    }
   ],
   "source": [
    "# read the species-metabolite flux values from the file\n",
    "species_io_met = defaultdict(dict)\n",
    "with open(species_metabolites_fluxes_file, 'r') as f:\n",
    "    metabolites = f.readline().rstrip().split('\\t')[1:]\n",
    "    # make them all lower case\n",
    "    metabolites = [m.lower() for m in metabolites]\n",
    "    for line in f:\n",
    "        line = line.rstrip().split('\\t')\n",
    "        s = line[0]\n",
    "        fluxes = line[1:]\n",
    "        for i in range(1,len(metabolites)):\n",
    "            if fluxes[i] != \"NA\":\n",
    "                species_io_met[s][metabolites[i]] = float(fluxes[i])\n",
    "            \n",
    "print(\"%d species, %d metabolites\" % (len(species_io_met), len(metabolites)))"
   ]
  },
  {
   "cell_type": "code",
   "execution_count": 37,
   "metadata": {},
   "outputs": [
    {
     "name": "stdout",
     "output_type": "stream",
     "text": [
      "447 in-metabolites, 233 out-metabolites\n"
     ]
    }
   ],
   "source": [
    "# TODO summarize the metabolites at the genus level\n",
    "# first I'll just make a boxplot of all of the in and out fluxes\n",
    "\n",
    "# do the out-fluxes first, then the in-fluxes\n",
    "in_met_counts = defaultdict(int)\n",
    "out_met_counts = defaultdict(int)\n",
    "for s in species_io_met:\n",
    "    for m in species_io_met[s]:\n",
    "        # if this is an outgoing flux (i.e., into the extracellular space out of the cell):\n",
    "        if species_io_met[s][m] >= 0:\n",
    "            in_met_counts[m] += 1\n",
    "        elif species_io_met[s][m] <= 0:\n",
    "            out_met_counts[m] += 1\n",
    "            \n",
    "print(\"%d in-metabolites, %d out-metabolites\" % (len(in_met_counts), len(out_met_counts)))"
   ]
  },
  {
   "cell_type": "code",
   "execution_count": 43,
   "metadata": {},
   "outputs": [],
   "source": [
    "#print(''.join([\"%s: %d\\n\" % (m, out_met_counts[m]) for m in sorted(out_met_counts, key=out_met_counts.get, reverse=True)]))\n",
    "out_file = \"%s/out-metabolites.tsv\" % (out_dir)\n",
    "with open(out_file, 'w') as out:\n",
    "    out.write(''.join([\"%s\\t%d\\n\" % (m, out_met_counts[m]) for m in sorted(out_met_counts, key=out_met_counts.get, reverse=True)]))"
   ]
  },
  {
   "cell_type": "code",
   "execution_count": 31,
   "metadata": {},
   "outputs": [
    {
     "name": "stdout",
     "output_type": "stream",
     "text": [
      "Checking how many of the 28 simple_sugars are in the in-out fluxes table\n"
     ]
    }
   ],
   "source": [
    "# these are the metabolites they were interested in from the paper:\n",
    "simple_sugars = [\"D-glucose\", \"D-fructose\", \"Maltose\", \"D-mannose\", \"N-acetyl-D-glucosamine\", \n",
    "                 \"D-glucosamine\", \"D-ribose\", \"Sucrose\", \"D-galactose\", \"Lactose\", \"Cellobiose\", \n",
    "                 \"Trehalose\", \"2-deoxy-D-ribose\", \"Aldehydo-D-xylose\", \"L-arabinose\", \"D-mannitol\", \n",
    "                 \"Melibiose\", \"Raffinose\", \"D-gluconate\", \"Salicin\", \"D-glucuronate\", \"L-rhamnose\", \n",
    "                 \"D-galacturonate\", \"D-arabinose\", \"L-fucose\", \"L-lyxose\", \"N-acetylneuraminate\", \n",
    "                 \"N-acetyl-D-galactosamine\"]\n",
    "simple_sugars = [m.lower() for m in simple_sugars]\n",
    "\n",
    "# see how many of them are in the data I have\n",
    "print(\"Checking how many of the %d simple_sugars are in the in-out fluxes table\" % (len(simple_sugars)))\n",
    "for m in simple_sugars:\n",
    "    if m not in in_met_counts:\n",
    "        print(\"Warning: %s not in the in-out fluxes table\" % (m))\n",
    "\n",
    "present_simple_sugars = [m for m in simple_sugars if m in in_met_counts]\n",
    "\n",
    "simple_sugar_in_met_counts = {m:in_met_counts[m] for m in present_simple_sugars}"
   ]
  },
  {
   "cell_type": "code",
   "execution_count": 32,
   "metadata": {},
   "outputs": [
    {
     "data": {
      "image/png": "[encoded data removed]",
      "text/plain": [
       "<matplotlib.figure.Figure at 0x7f03bca2d090>"
      ]
     },
     "metadata": {},
     "output_type": "display_data"
    }
   ],
   "source": [
    "import matplotlib.pyplot as plt\n",
    "# now plot them\n",
    "#plot = plt.plot()\n",
    "ind = range(len(in_met_counts))\n",
    "plt.bar(ind, in_met_counts.values())\n",
    "plt.xticks(ind, in_met_counts.keys())\n",
    "plt.show()"
   ]
  },
  {
   "cell_type": "code",
   "execution_count": 33,
   "metadata": {},
   "outputs": [
    {
     "data": {
      "image/png": "[encoded data removed]",
      "text/plain": [
       "<matplotlib.figure.Figure at 0x7f03bca2df50>"
      ]
     },
     "metadata": {},
     "output_type": "display_data"
    }
   ],
   "source": [
    "names = sorted(simple_sugar_in_met_counts, key=simple_sugar_in_met_counts.get)\n",
    "counts = sorted(simple_sugar_in_met_counts.values())\n",
    "ind = range(len(simple_sugar_in_met_counts))\n",
    "plt.barh(ind, counts)\n",
    "plt.yticks(ind, names)\n",
    "plt.show()"
   ]
  },
  {
   "cell_type": "code",
   "execution_count": null,
   "metadata": {},
   "outputs": [],
   "source": [
    "# now get the phyla using the species genus\n",
    "microbes_file = \"%s/microbes.tsv\" % (out_dir)\n"
   ]
  },
  {
   "cell_type": "code",
   "execution_count": 5,
   "metadata": {},
   "outputs": [
    {
     "name": "stdout",
     "output_type": "stream",
     "text": [
      "IN FLUXES                 OUT FLUXES                OBJECTIVES\n",
      "------------------------  ------------------------  ---------------\n",
      "cit__91__e__...    1e+03  ac__91__e__93__    1e+03  biomass525  146\n",
      "etoh__91__e_...    1e+03  co2__91__e__...    1e+03\n",
      "glyleu__91__...    1e+03  for__91__e__...    1e+03\n",
      "lac_D__91__e...    1e+03  h__91__e__93__     1e+03\n",
      "nmn__91__e__...    1e+03  nh4__91__e__...    1e+03\n",
      "thr_L__91__e...    1e+03  pi__91__e__93__    1e+03\n",
      "indole__91__...  945      nac__91__e__...  998\n",
      "tmao__91__e_...  913      ppa__91__e__...  977\n",
      "dad_2__91__e...  662      trp_L__91__e...  937\n",
      "o2__91__e__93__  421      leu_L__91__e...  936\n",
      "h2__91__e__93__  405      h2o__91__e__...  913\n",
      "but__91__e__...  397      tma__91__e__...  913\n",
      "acald__91__e...  304      gly__91__e__...  902\n",
      "glyc3p__91__...  186      fum__91__e__...  754\n",
      "12ppd_S__91_...  185      xtsn__91__e_...  655\n",
      "dnarep__91__...  146      acac__91__e_...  397\n",
      "proteinsynth...  146      ttdca__91__e...  397\n",
      "rnatrans__91...  146      ala_L__91__e...  306\n",
      "akg__91__e__...   88      mal_L__91__e...  163\n",
      "arg_L__91__e...   64.1    biomass__91_...  146\n",
      "val_L__91__e...   59.9    orn__91__e__...   22.1\n",
      "lys_L__91__e...   48.5    ppi__91__e__...   16.9\n",
      "ile_L__91__e...   41.1\n",
      "dgsn__91__e_...   34.4\n",
      "asn_L__91__e...   34.2\n",
      "pro_L__91__e...   31.4\n",
      "acnam__91__e...   26.9\n",
      "phe_L__91__e...   26.3\n",
      "xan__91__e__...   24.9\n",
      "h2s__91__e__...   22.9\n",
      "cytd__91__e_...   20.6\n",
      "tyr_L__91__e...   19.5\n",
      "g6p__91__e__...   18.1\n",
      "cys_L__91__e...   15.2\n",
      "his_L__91__e...   13.5\n",
      "pnto_R__91__...    2.27\n",
      "ca2__91__e__...    1.14\n",
      "cl__91__e__93__    1.14\n",
      "cobalt2__91_...    1.14\n",
      "cu2__91__e__...    1.14\n",
      "fe2__91__e__...    1.14\n",
      "fe3__91__e__...    1.14\n",
      "k__91__e__93__     1.14\n",
      "mg2__91__e__...    1.14\n",
      "mn2__91__e__...    1.14\n",
      "so4__91__e__...    1.14\n",
      "zn2__91__e__...    1.14\n"
     ]
    }
   ],
   "source": [
    "model.summary()"
   ]
  },
  {
   "cell_type": "code",
   "execution_count": 31,
   "metadata": {},
   "outputs": [
    {
     "ename": "AttributeError",
     "evalue": "'Model' object has no attribute 'species'",
     "output_type": "error",
     "traceback": [
      "\u001b[0;31m---------------------------------------------------------------------------\u001b[0m",
      "\u001b[0;31mAttributeError\u001b[0m                            Traceback (most recent call last)",
      "\u001b[0;32m<ipython-input-31-750f17787fce>\u001b[0m in \u001b[0;36m<module>\u001b[0;34m()\u001b[0m\n\u001b[0;32m----> 1\u001b[0;31m \u001b[0mmodel\u001b[0m\u001b[0;34m.\u001b[0m\u001b[0mspecies\u001b[0m\u001b[0;34m(\u001b[0m\u001b[0;34m)\u001b[0m\u001b[0;34m\u001b[0m\u001b[0m\n\u001b[0m",
      "\u001b[0;31mAttributeError\u001b[0m: 'Model' object has no attribute 'species'"
     ]
    }
   ],
   "source": [
    "model.species()"
   ]
  },
  {
   "cell_type": "code",
   "execution_count": 11,
   "metadata": {},
   "outputs": [],
   "source": [
    "# first get the solvers output of the model\n",
    "solution = model.optimize()"
   ]
  },
  {
   "cell_type": "code",
   "execution_count": null,
   "metadata": {},
   "outputs": [],
   "source": [
    "solution"
   ]
  },
  {
   "cell_type": "code",
   "execution_count": 24,
   "metadata": {},
   "outputs": [],
   "source": [
    "fluxes = {}\n",
    "for rxn in model.exchanges:\n",
    "    for met in rxn.metabolites:\n",
    "        stoich = rxn.metabolites[met]\n",
    "        flux = stoich * solution.fluxes[rxn.id]\n",
    "        fluxes[met.name] = flux\n",
    "        #if flux > 0:\n",
    "        #print(rxn.id, met.id, stoich, flux)"
   ]
  },
  {
   "cell_type": "code",
   "execution_count": 25,
   "metadata": {},
   "outputs": [
    {
     "name": "stdout",
     "output_type": "stream",
     "text": [
      "47 in fluxes, 22 out fluxes\n"
     ]
    }
   ],
   "source": [
    "in_fluxes = [m for m in fluxes if fluxes[m] > 0]\n",
    "out_fluxes = [m for m in fluxes if fluxes[m] < 0]\n",
    "print(\"%d in fluxes, %d out fluxes\" % (len(in_fluxes), len(out_fluxes)))"
   ]
  },
  {
   "cell_type": "code",
   "execution_count": 28,
   "metadata": {},
   "outputs": [
    {
     "name": "stdout",
     "output_type": "stream",
     "text": [
      "[('D-Glucose 6-phosphate', 18.07033697333098), ('O2', 420.9033406718034), ('sulfate', 1.1365677367700606), ('L-valine', 59.90361365208043), ('L-lysinium(1+)', 48.54433997485769), ('RNA transcription', 145.53841995160454), ('Mn2+', 1.1365677367700606), ('(S)-propane-1,2-diol', 185.2839282030899), ('(R)-Pantothenate', 2.2731354735401275), ('butyrate', 396.93138439043094), ('Chloride', 1.1365677367700606), ('Co2+', 1.1365677367700606), ('L-threonine', 1000.0), ('Glycerol 3-phosphate', 186.08886641998697), ('calcium(2+)', 1.1365677367700606), ('Trimethylamine N-oxide', 912.6585192266139), ('ethanol', 1000.0), ('L-cysteine', 15.223144080833901), ('Citrate', 1000.0), ('Deoxyguanosine', 34.4148589045933), ('(R)-lactate', 1000.0), ('Hydrogen', 405.43663060300594), ('Indole', 944.8996781446343), ('Xanthine', 24.895427355485026), ('2-deoxyadenosine', 661.8781927122733), ('L-histidine', 13.480205071177467), ('Cytidine', 20.612169802485887), ('potassium', 1.1365677367700606), ('2-Oxoglutarate', 87.97739270706515), ('L-phenylalanine', 26.278417106461717), ('L-tyrosine', 19.53853287850291), ('Glycylleucine', 1000.0), ('L-isoleucine', 41.121880557325866), ('magnesium', 1.1365677367700606), ('Zinc', 1.1365677367700606), ('NMN', 1000.0), ('Cu2+', 1.1365677367700606), ('DNA replication', 145.53841995160454), ('L-proline', 31.353341810174168), ('Fe3+', 1.1365677367700606), ('L-asparagine', 34.154956394242554), ('L-argininium(1+)', 64.07867430523211), ('Hydrogen sulfide', 22.871275372342637), ('N-acetylneuraminate', 26.91762184688916), ('acetaldehyde', 303.7069483831333), ('Fe2+', 1.1365677367700606), ('Protein biosynthesis', 145.53841995160454)]\n"
     ]
    }
   ],
   "source": [
    "print([(m, fluxes[m]) for m in in_fluxes])"
   ]
  }
 ],
 "metadata": {
  "kernelspec": {
   "display_name": "Python 2",
   "language": "python",
   "name": "python2"
  },
  "language_info": {
   "codemirror_mode": {
    "name": "ipython",
    "version": 2
   },
   "file_extension": ".py",
   "mimetype": "text/x-python",
   "name": "python",
   "nbconvert_exporter": "python",
   "pygments_lexer": "ipython2",
   "version": "2.7.14"
  }
 },
 "nbformat": 4,
 "nbformat_minor": 2
}
